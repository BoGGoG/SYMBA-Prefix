{
 "cells": [
  {
   "cell_type": "markdown",
   "metadata": {},
   "source": [
    "In `2022-08-14-DataPreparation/DataPreparation_parallel.py` I had a bug in the hybrid prefix notation export. Luckily I also exported the simplified equations.\n",
    "\n",
    "In this notebook I load the simplified sqamplitudes and export them in hybrid prefix\n",
    "\n",
    "I am also adding $$i^2 \\to -1$$"
   ]
  },
  {
   "cell_type": "code",
   "execution_count": 1,
   "metadata": {},
   "outputs": [],
   "source": [
    "import sys\n",
    "import os\n",
    "from icecream import ic \n",
    "import csv\n",
    "import numpy as np\n",
    "import more_itertools\n",
    "import matplotlib.pyplot as plt\n",
    "import sympy as sp\n",
    "from tqdm.notebook import tqdm\n",
    "  \n",
    "# current = os.path.dirname(os.path.realpath(__file__))\n",
    "# parent = os.path.dirname(current)\n",
    "\n",
    "current = os.curdir\n",
    "# parent = os.path.dirname(current)\n",
    "# sys.path.append(parent)\n",
    "os.chdir(\"..\")\n",
    "\n",
    "from source.read_amplitudes import read_amplitudes, read_amplitudes_and_raw_squares, fix_operator_num_args, get_tree, fix_tree, fix_subscript, fix_subscripts, read_amplitudes_and_squares\n",
    "import sympy as sp\n",
    "from source.SympyPrefix import prefix_to_sympy, sympy_to_prefix\n",
    "from source.ExpressionsTokensCombiner import combine_m_s, combine_m, shorten_expression, fix_i\n",
    "from source.SympyPrefix import prefix_to_sympy, sympy_to_prefix, sympy_to_hybrid_prefix, simplify_and_prefix, simplify_sqampl\n",
    "  "
   ]
  },
  {
   "cell_type": "code",
   "execution_count": 2,
   "metadata": {},
   "outputs": [
    {
     "data": {
      "text/plain": [
       "['source',\n",
       " 'notebooks',\n",
       " 'dev',\n",
       " 'scripts',\n",
       " 'notes',\n",
       " 'log',\n",
       " 'ExpressionsTokensCombinder.py']"
      ]
     },
     "execution_count": 2,
     "metadata": {},
     "output_type": "execute_result"
    }
   ],
   "source": [
    "os.listdir()"
   ]
  },
  {
   "cell_type": "code",
   "execution_count": 3,
   "metadata": {},
   "outputs": [],
   "source": [
    "sqamplitudes_simplified_file = \"../data.nosync/QED_sqamplitudes_TreeLevel_3to2_simplified.txt\"\n",
    "outfile_sqamplitudes_prefix = \"../data.nosync/QED_sqamplitudes_TreeLevel_3to2_simplified_hybrid_prefix_2.txt\"\n",
    "read_number_ampls = -1"
   ]
  },
  {
   "cell_type": "code",
   "execution_count": 4,
   "metadata": {},
   "outputs": [],
   "source": [
    "sqamplitudes_simplified = []\n",
    "with open(sqamplitudes_simplified_file, 'r') as f:\n",
    "    ctr = 0\n",
    "    for line in f.readlines():\n",
    "        line = line.split(\",\")\n",
    "        line[-1] = line[-1].replace(\"\\n\", \"\")\n",
    "        sqamplitudes_simplified.append(line[0])\n",
    "        ctr = ctr + 1\n",
    "        if ctr == read_number_ampls:\n",
    "            break"
   ]
  },
  {
   "cell_type": "code",
   "execution_count": 5,
   "metadata": {},
   "outputs": [
    {
     "data": {
      "text/plain": [
       "129024"
      ]
     },
     "execution_count": 5,
     "metadata": {},
     "output_type": "execute_result"
    }
   ],
   "source": [
    "len(sqamplitudes_simplified)"
   ]
  },
  {
   "cell_type": "code",
   "execution_count": 6,
   "metadata": {},
   "outputs": [
    {
     "data": {
      "application/vnd.jupyter.widget-view+json": {
       "model_id": "328d2222fae649e48699d8dcaa6b5037",
       "version_major": 2,
       "version_minor": 0
      },
      "text/plain": [
       "  0%|          | 0/129024 [00:00<?, ?it/s]"
      ]
     },
     "metadata": {},
     "output_type": "display_data"
    },
    {
     "data": {
      "application/vnd.jupyter.widget-view+json": {
       "model_id": "7bbea9287e664cbc8bf7c30c02d91779",
       "version_major": 2,
       "version_minor": 0
      },
      "text/plain": [
       "  0%|          | 0/129024 [00:00<?, ?it/s]"
      ]
     },
     "metadata": {},
     "output_type": "display_data"
    }
   ],
   "source": [
    "sqamplitudes_prefix = [shorten_expression(x) for x in tqdm(sqamplitudes_simplified)]\n",
    "sqamplitudes_prefix = [sympy_to_hybrid_prefix(x) for x in tqdm(sqamplitudes_prefix)]"
   ]
  },
  {
   "cell_type": "code",
   "execution_count": 7,
   "metadata": {},
   "outputs": [
    {
     "data": {
      "text/plain": [
       "['mul(',\n",
       " 'mul',\n",
       " 's-',\n",
       " '16',\n",
       " 'pow',\n",
       " '9',\n",
       " 's-',\n",
       " '1',\n",
       " 'pow',\n",
       " 'e',\n",
       " '6',\n",
       " 'pow',\n",
       " 'add(',\n",
       " 'mul(',\n",
       " 's-',\n",
       " '1',\n",
       " 'reg_prop',\n",
       " ')',\n",
       " 'mul(',\n",
       " '2',\n",
       " 's_34',\n",
       " ')',\n",
       " ')',\n",
       " 's-',\n",
       " '2',\n",
       " 'pow',\n",
       " 'add(',\n",
       " 'reg_prop',\n",
       " 'mul(',\n",
       " 's-',\n",
       " '2',\n",
       " 's_14',\n",
       " ')',\n",
       " 'mul(',\n",
       " 's-',\n",
       " '2',\n",
       " 's_34',\n",
       " ')',\n",
       " 'mul(',\n",
       " '2',\n",
       " 'm2e',\n",
       " ')',\n",
       " 'mul(',\n",
       " '2',\n",
       " 's_13',\n",
       " ')',\n",
       " ')',\n",
       " 's-',\n",
       " '2',\n",
       " 'add(',\n",
       " 'mul(',\n",
       " 's-',\n",
       " '1',\n",
       " 'm4exs_25',\n",
       " ')',\n",
       " 'mul(',\n",
       " 'm2dxs_13',\n",
       " 's_34',\n",
       " ')',\n",
       " 'mul(',\n",
       " 'm2e',\n",
       " 'add(',\n",
       " 'mul(',\n",
       " 's_12',\n",
       " 's_45',\n",
       " ')',\n",
       " 'mul(',\n",
       " 's_15',\n",
       " 's_24',\n",
       " ')',\n",
       " 'mul(',\n",
       " 's_25',\n",
       " 's_34',\n",
       " ')',\n",
       " 'mul(',\n",
       " 's-',\n",
       " '1',\n",
       " 's_12',\n",
       " 's_35',\n",
       " ')',\n",
       " 'mul(',\n",
       " 's-',\n",
       " '1',\n",
       " 's_15',\n",
       " 's_23',\n",
       " ')',\n",
       " ')',\n",
       " ')',\n",
       " 'mul(',\n",
       " '2',\n",
       " 'm2d',\n",
       " 'm4e',\n",
       " ')',\n",
       " 'mul(',\n",
       " 'm2d',\n",
       " 'm2e',\n",
       " 'add(',\n",
       " 's_13',\n",
       " 'mul(',\n",
       " 's-',\n",
       " '1',\n",
       " 's_14',\n",
       " ')',\n",
       " 'mul(',\n",
       " 's-',\n",
       " '2',\n",
       " 's_34',\n",
       " ')',\n",
       " ')',\n",
       " ')',\n",
       " 'mul(',\n",
       " 's-',\n",
       " '1',\n",
       " 's_12',\n",
       " 's_34',\n",
       " 's_35',\n",
       " ')',\n",
       " 'mul(',\n",
       " 's-',\n",
       " '1',\n",
       " 's_15',\n",
       " 's_23',\n",
       " 's_34',\n",
       " ')',\n",
       " ')',\n",
       " ')']"
      ]
     },
     "execution_count": 7,
     "metadata": {},
     "output_type": "execute_result"
    }
   ],
   "source": [
    "sqamplitudes_prefix[0]"
   ]
  },
  {
   "cell_type": "code",
   "execution_count": 8,
   "metadata": {},
   "outputs": [],
   "source": [
    "out_sqamplitudes_prefix_str = [\",\".join(x) for x in sqamplitudes_prefix]\n",
    "out_sqamplitudes_prefix_str = \"\\n\".join(out_sqamplitudes_prefix_str)+\"\\n\""
   ]
  },
  {
   "cell_type": "code",
   "execution_count": 9,
   "metadata": {},
   "outputs": [],
   "source": [
    "with open(outfile_sqamplitudes_prefix, 'w') as f:\n",
    "    f.write(out_sqamplitudes_prefix_str)\n"
   ]
  }
 ],
 "metadata": {
  "kernelspec": {
   "display_name": "symba",
   "language": "python",
   "name": "symba"
  },
  "language_info": {
   "codemirror_mode": {
    "name": "ipython",
    "version": 3
   },
   "file_extension": ".py",
   "mimetype": "text/x-python",
   "name": "python",
   "nbconvert_exporter": "python",
   "pygments_lexer": "ipython3",
   "version": "3.10.6"
  },
  "orig_nbformat": 4,
  "vscode": {
   "interpreter": {
    "hash": "e7370f93d1d0cde622a1f8e1c04877d8463912d04d973331ad4851f04de6915a"
   }
  }
 },
 "nbformat": 4,
 "nbformat_minor": 2
}
