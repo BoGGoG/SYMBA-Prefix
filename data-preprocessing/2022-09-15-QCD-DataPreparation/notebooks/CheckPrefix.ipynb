{
 "cells": [
  {
   "cell_type": "code",
   "execution_count": 1,
   "metadata": {},
   "outputs": [],
   "source": [
    "import sys\n",
    "import os\n",
    "from icecream import ic \n",
    "import csv\n",
    "import numpy as np\n",
    "import more_itertools\n",
    "import matplotlib.pyplot as plt\n",
    "import sympy as sp\n",
    "from tqdm.notebook import tqdm\n",
    "  \n",
    "# current = os.path.dirname(os.path.realpath(__file__))\n",
    "# parent = os.path.dirname(current)\n",
    "\n",
    "current = os.curdir\n",
    "# parent = os.path.dirname(current)\n",
    "# sys.path.append(parent)\n",
    "os.chdir(\"..\")\n",
    "\n",
    "from source.read_amplitudes import read_amplitudes, read_amplitudes_and_raw_squares, fix_operator_num_args, get_tree, fix_tree, fix_subscript, fix_subscripts, read_amplitudes_and_squares\n",
    "import sympy as sp\n",
    "from source.SympyPrefix import prefix_to_sympy, sympy_to_prefix\n",
    "from source.ExpressionsTokensCombiner import combine_m_s, combine_m, shorten_expression, fix_i\n",
    "from source.SympyPrefix import prefix_to_sympy, sympy_to_prefix, sympy_to_hybrid_prefix, simplify_and_prefix, simplify_sqampl\n",
    "  "
   ]
  },
  {
   "cell_type": "code",
   "execution_count": 2,
   "metadata": {},
   "outputs": [
    {
     "data": {
      "text/plain": [
       "['source',\n",
       " 'notebooks',\n",
       " 'dev',\n",
       " 'scripts',\n",
       " 'notes',\n",
       " 'log',\n",
       " 'ExpressionsTokensCombinder.py']"
      ]
     },
     "execution_count": 2,
     "metadata": {},
     "output_type": "execute_result"
    }
   ],
   "source": [
    "os.listdir()"
   ]
  },
  {
   "cell_type": "code",
   "execution_count": 3,
   "metadata": {},
   "outputs": [
    {
     "name": "stderr",
     "output_type": "stream",
     "text": [
      "ic| name: '1to2/'\n"
     ]
    },
    {
     "name": "stdout",
     "output_type": "stream",
     "text": [
      "Loading amplitudes\n"
     ]
    },
    {
     "data": {
      "application/vnd.jupyter.widget-view+json": {
       "model_id": "a48bab15f55f416ca5d12cc7fb48c111",
       "version_major": 2,
       "version_minor": 0
      },
      "text/plain": [
       "  0%|          | 0/432 [00:00<?, ?it/s]"
      ]
     },
     "metadata": {},
     "output_type": "display_data"
    },
    {
     "name": "stdout",
     "output_type": "stream",
     "text": [
      "Loading squared amplitudes\n"
     ]
    },
    {
     "data": {
      "application/vnd.jupyter.widget-view+json": {
       "model_id": "c9c70e3f05e045e28808a73e4ea1c46e",
       "version_major": 2,
       "version_minor": 0
      },
      "text/plain": [
       "  0%|          | 0/432 [00:00<?, ?it/s]"
      ]
     },
     "metadata": {},
     "output_type": "display_data"
    }
   ],
   "source": [
    "ampl_folders_prefix = \"../2022-08-09-QED_AllParticles_Loop/out/ampl/\"\n",
    "# sqampl_folders_prefix = \"../QED_AllParticles_IO/out/sq_ampl/\"\n",
    "sqampl_raw_folders_prefix = \"../2022-08-09-QED_AllParticles_Loop/out/sq_ampl_raw/\"\n",
    "# amplitudes_folders_names = [\"1to2/\", \"2to1/\", \"2to2/\", \"2to3/\", \"3to2/\", \"3to3/\",]\n",
    "# amplitudes_folders_names = [\"1to2/\", \"2to1/\", \"2to2/\"]#, \"2to3/\", ]# \"3to2/\", \"3to3/\",]\n",
    "amplitudes_folders_names = [\"1to2/\"]\n",
    "# amplitudes_folders_names = [\"3to2/\"]#, \"2to3/\", ]# \"3to2/\", \"3to3/\",]\n",
    "amplitudes_folders = [ampl_folders_prefix+a for a in amplitudes_folders_names]\n",
    "# sqamplitudes_raw_folders_names = [\"1to2/\", \"2to1/\", \"2to2/\", \"2to3/\", \"3to2/\", \"3to3/\",]\n",
    "# sqamplitudes_raw_folders_names = [\"1to2/\", \"2to1/\", \"2to2/\"] #, \"2to3/\", ]# \"3to2/\", \"3to3/\",]\n",
    "# sqamplitudes_raw_folders_names = [\"3to2/\"] #, \"2to3/\", ]# \"3to2/\", \"3to3/\",]\n",
    "sqamplitudes_raw_folders_names = amplitudes_folders_names\n",
    "sqamplitudes_folders = [sqampl_raw_folders_prefix+a for a in sqamplitudes_raw_folders_names]\n",
    "\n",
    "\n",
    "amplitudes = dict()\n",
    "sqamplitudes = dict()\n",
    "for amplitudes_folder, sqamplitudes_folder, name in zip(amplitudes_folders, sqamplitudes_folders, amplitudes_folders_names):\n",
    "    ic(name)\n",
    "\n",
    "    amplitudes_files = os.listdir(amplitudes_folder)\n",
    "    sqamplitudes_files = os.listdir(sqamplitudes_folder)\n",
    "    ampl, sqampl_raw = read_amplitudes_and_raw_squares(amplitudes_folder, sqamplitudes_folder)\n",
    "\n",
    "    ampls_prefix = []\n",
    "    print(\"Loading amplitudes\")\n",
    "    for exp in tqdm(ampl):\n",
    "        tree = get_tree(exp)\n",
    "        tree = fix_tree(tree)\n",
    "        final_expr = fix_subscripts(tree)\n",
    "        ampls_prefix.append(final_expr)\n",
    "\n",
    "    sqampls_prefix = []\n",
    "    print(\"Loading squared amplitudes\")\n",
    "    for exp in tqdm(sqampl_raw):\n",
    "        # simplified = sp.factor(exp)   # worked best for simplification\n",
    "        # prefix = sympy_to_prefix(simplified)\n",
    "        # sqampls_prefix.append(prefix)\n",
    "        sqampls_prefix.append(exp)\n",
    "    amplitudes[name] = ampls_prefix\n",
    "    sqamplitudes[name] = sqampls_prefix\n",
    "\n",
    "# # %%\n",
    "all_amplitudes = []\n",
    "for key in amplitudes.keys():\n",
    "    for x in amplitudes[key]:\n",
    "        all_amplitudes.append(x)\n",
    "\n",
    "all_sqamplitudes = []\n",
    "for key in sqamplitudes.keys():\n",
    "    for x in sqamplitudes[key]:\n",
    "        all_sqamplitudes.append(x)\n",
    "#"
   ]
  },
  {
   "cell_type": "code",
   "execution_count": 12,
   "metadata": {},
   "outputs": [],
   "source": [
    "all_sqamplitudes_simpl = [sp.simplify(x) for x in all_sqamplitudes]"
   ]
  },
  {
   "cell_type": "code",
   "execution_count": 13,
   "metadata": {},
   "outputs": [
    {
     "data": {
      "application/vnd.jupyter.widget-view+json": {
       "model_id": "2316cf60a3764c8788e7bf6dc09cc256",
       "version_major": 2,
       "version_minor": 0
      },
      "text/plain": [
       "  0%|          | 0/432 [00:00<?, ?it/s]"
      ]
     },
     "metadata": {},
     "output_type": "display_data"
    },
    {
     "data": {
      "application/vnd.jupyter.widget-view+json": {
       "model_id": "511879f224c64a7f9589a4c55117c08a",
       "version_major": 2,
       "version_minor": 0
      },
      "text/plain": [
       "  0%|          | 0/432 [00:00<?, ?it/s]"
      ]
     },
     "metadata": {},
     "output_type": "display_data"
    }
   ],
   "source": [
    "sqamplitudes_shortened = [shorten_expression(x) for x in tqdm(all_sqamplitudes_simpl)]\n",
    "sqamplitudes_prefix = [sympy_to_hybrid_prefix(x) for x in tqdm(sqamplitudes_shortened)]"
   ]
  },
  {
   "cell_type": "code",
   "execution_count": 16,
   "metadata": {},
   "outputs": [
    {
     "data": {
      "text/plain": [
       "'(-8)*e^2*(m_mu^2 + -1/2*s_12)'"
      ]
     },
     "execution_count": 16,
     "metadata": {},
     "output_type": "execute_result"
    }
   ],
   "source": [
    "all_sqamplitudes[0]"
   ]
  },
  {
   "cell_type": "code",
   "execution_count": 17,
   "metadata": {},
   "outputs": [
    {
     "data": {
      "text/plain": [
       "'4*e**2*(-2*m2mu + s_12)'"
      ]
     },
     "execution_count": 17,
     "metadata": {},
     "output_type": "execute_result"
    }
   ],
   "source": [
    "str(sqamplitudes_shortened[0])"
   ]
  },
  {
   "cell_type": "code",
   "execution_count": 14,
   "metadata": {},
   "outputs": [
    {
     "data": {
      "text/plain": [
       "array(['mul(', '4', 'pow', 'e', '2', 'add(', 's_12', 'mul(', 's-', '2',\n",
       "       'm2mu', ')', ')', ')'], dtype='<U4')"
      ]
     },
     "execution_count": 14,
     "metadata": {},
     "output_type": "execute_result"
    }
   ],
   "source": [
    "np.array(sqamplitudes_prefix[0])"
   ]
  },
  {
   "cell_type": "code",
   "execution_count": 18,
   "metadata": {},
   "outputs": [
    {
     "data": {
      "text/plain": [
       "'32/9*e^2*(m_c^2 + 1/2*s_23)'"
      ]
     },
     "execution_count": 18,
     "metadata": {},
     "output_type": "execute_result"
    }
   ],
   "source": [
    "all_sqamplitudes[-10]"
   ]
  },
  {
   "cell_type": "code",
   "execution_count": 19,
   "metadata": {},
   "outputs": [
    {
     "data": {
      "text/latex": [
       "$\\displaystyle \\frac{16 e^{2} \\cdot \\left(2 m2c + s_{23}\\right)}{9}$"
      ],
      "text/plain": [
       "16*e**2*(2*m2c + s_23)/9"
      ]
     },
     "execution_count": 19,
     "metadata": {},
     "output_type": "execute_result"
    }
   ],
   "source": [
    "sqamplitudes_shortened[-10]"
   ]
  },
  {
   "cell_type": "code",
   "execution_count": 21,
   "metadata": {},
   "outputs": [
    {
     "data": {
      "text/plain": [
       "array(['mul(', 'mul', '16', 'pow', '9', 's-', '1', 'pow', 'e', '2',\n",
       "       'add(', 's_23', 'mul(', '2', 'm2c', ')', ')', ')'], dtype='<U4')"
      ]
     },
     "execution_count": 21,
     "metadata": {},
     "output_type": "execute_result"
    }
   ],
   "source": [
    "np.array(sqamplitudes_prefix[-10])"
   ]
  },
  {
   "cell_type": "code",
   "execution_count": null,
   "metadata": {},
   "outputs": [],
   "source": []
  }
 ],
 "metadata": {
  "kernelspec": {
   "display_name": "Python 3.10.6 64-bit",
   "language": "python",
   "name": "python3"
  },
  "language_info": {
   "codemirror_mode": {
    "name": "ipython",
    "version": 3
   },
   "file_extension": ".py",
   "mimetype": "text/x-python",
   "name": "python",
   "nbconvert_exporter": "python",
   "pygments_lexer": "ipython3",
   "version": "3.10.6"
  },
  "orig_nbformat": 4,
  "vscode": {
   "interpreter": {
    "hash": "e7370f93d1d0cde622a1f8e1c04877d8463912d04d973331ad4851f04de6915a"
   }
  }
 },
 "nbformat": 4,
 "nbformat_minor": 2
}
