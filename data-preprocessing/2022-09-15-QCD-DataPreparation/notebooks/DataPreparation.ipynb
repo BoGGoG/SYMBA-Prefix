{
 "cells": [
  {
   "cell_type": "code",
   "execution_count": 1,
   "metadata": {},
   "outputs": [],
   "source": [
    "import sys\n",
    "import os\n",
    "from icecream import ic \n",
    "import csv\n",
    "import numpy as np\n",
    "import more_itertools\n",
    "import matplotlib.pyplot as plt\n",
    "import sympy as sp\n",
    "from tqdm.notebook import tqdm\n",
    "  \n",
    "# current = os.path.dirname(os.path.realpath(__file__))\n",
    "# parent = os.path.dirname(current)\n",
    "\n",
    "current = os.curdir\n",
    "# parent = os.path.dirname(current)\n",
    "# sys.path.append(parent)\n",
    "os.chdir(\"..\")\n",
    "\n",
    "from source.read_amplitudes import read_amplitudes, read_amplitudes_and_raw_squares, fix_operator_num_args, get_tree, fix_tree, fix_subscript, fix_subscripts, read_amplitudes_and_squares\n",
    "import sympy as sp\n",
    "from source.SympyPrefix import prefix_to_sympy, sympy_to_prefix\n",
    "from source.ExpressionsTokensCombiner import combine_m_s, combine_m, shorten_expression\n",
    "from source.SympyPrefix import prefix_to_sympy, sympy_to_prefix, sympy_to_hybrid_prefix, simplify_and_prefix, simplify_sqampl\n",
    "  "
   ]
  },
  {
   "cell_type": "code",
   "execution_count": 2,
   "metadata": {},
   "outputs": [
    {
     "data": {
      "text/plain": [
       "['source',\n",
       " 'notebooks',\n",
       " 'dev',\n",
       " 'scripts',\n",
       " 'notes',\n",
       " 'log',\n",
       " 'ExpressionsTokensCombinder.py']"
      ]
     },
     "execution_count": 2,
     "metadata": {},
     "output_type": "execute_result"
    }
   ],
   "source": [
    "os.listdir()"
   ]
  },
  {
   "cell_type": "code",
   "execution_count": 3,
   "metadata": {},
   "outputs": [],
   "source": [
    "ampl_folders_prefix = \"../2022-08-09-QED_AllParticles_Loop/out/ampl/\"\n",
    "sqampl_raw_folders_prefix = \"../2022-08-09-QED_AllParticles_Loop/out/sq_ampl_raw/\"\n",
    "amplitudes_folders_names = [\"3to2/\"]#, \"2to3/\", ]# \"3to2/\", \"3to3/\",]\n",
    "amplitudes_folders = [ampl_folders_prefix+a for a in amplitudes_folders_names]\n",
    "sqamplitudes_raw_folders_names = amplitudes_folders_names\n",
    "sqamplitudes_folders = [sqampl_raw_folders_prefix+a for a in sqamplitudes_raw_folders_names]\n",
    "sqamplitudes_simplified_file = \"../data.nosync/QED_sqamplitudes_TreeLevel_3to2_simplified.txt\"\n",
    "cpus = 19\n",
    "timeout_s = 60*4   # timeout in seconds\n",
    "# timeout_s = 0.1   # timeout in seconds\n",
    "read_number_ampls = 20"
   ]
  },
  {
   "cell_type": "code",
   "execution_count": 4,
   "metadata": {},
   "outputs": [
    {
     "name": "stderr",
     "output_type": "stream",
     "text": [
      "ic| name: '3to2/'\n"
     ]
    },
    {
     "name": "stdout",
     "output_type": "stream",
     "text": [
      "Loading amplitudes\n"
     ]
    },
    {
     "data": {
      "application/vnd.jupyter.widget-view+json": {
       "model_id": "93dfefe8135b4c00807483271798231d",
       "version_major": 2,
       "version_minor": 0
      },
      "text/plain": [
       "  0%|          | 0/129024 [00:00<?, ?it/s]"
      ]
     },
     "metadata": {},
     "output_type": "display_data"
    },
    {
     "name": "stdout",
     "output_type": "stream",
     "text": [
      "Loading squared amplitudes\n"
     ]
    },
    {
     "data": {
      "application/vnd.jupyter.widget-view+json": {
       "model_id": "29ada9ad54c849278ddd5d1eea647d29",
       "version_major": 2,
       "version_minor": 0
      },
      "text/plain": [
       "  0%|          | 0/129024 [00:00<?, ?it/s]"
      ]
     },
     "metadata": {},
     "output_type": "display_data"
    }
   ],
   "source": [
    "amplitudes = dict()\n",
    "sqamplitudes = dict()\n",
    "for amplitudes_folder, sqamplitudes_folder, name in zip(amplitudes_folders, sqamplitudes_folders, amplitudes_folders_names):\n",
    "    ic(name)\n",
    "\n",
    "    amplitudes_files = os.listdir(amplitudes_folder)\n",
    "    sqamplitudes_files = os.listdir(sqamplitudes_folder)\n",
    "    ampl, sqampl_raw = read_amplitudes_and_raw_squares(amplitudes_folder, sqamplitudes_folder)\n",
    "\n",
    "    ampls_prefix = []\n",
    "    print(\"Loading amplitudes\")\n",
    "    ctr = 0\n",
    "    for exp in tqdm(ampl):\n",
    "        tree = get_tree(exp)\n",
    "        tree = fix_tree(tree)\n",
    "        final_expr = fix_subscripts(tree)\n",
    "        ampls_prefix.append(final_expr)\n",
    "        ctr = ctr+1\n",
    "        if ctr == read_number_ampls:\n",
    "            break\n",
    "\n",
    "    sqampls_prefix = []\n",
    "    print(\"Loading squared amplitudes\")\n",
    "    ctr = 0\n",
    "    for exp in tqdm(sqampl_raw):\n",
    "        sqampls_prefix.append(exp)\n",
    "        ctr = ctr+1\n",
    "        if ctr == read_number_ampls:\n",
    "            break\n",
    "\n",
    "    ctr = 0\n",
    "    amplitudes[name] = ampls_prefix\n",
    "    sqamplitudes[name] = sqampls_prefix"
   ]
  },
  {
   "cell_type": "code",
   "execution_count": 5,
   "metadata": {},
   "outputs": [],
   "source": [
    "sqamplitudes_simplified = []\n",
    "with open(sqamplitudes_simplified_file, 'r') as f:\n",
    "    ctr = 0\n",
    "    for line in f.readlines() :\n",
    "        line = line.split(\",\")\n",
    "        line[-1] = line[-1].replace(\"\\n\", \"\")\n",
    "        sqamplitudes_simplified.append(line[0])\n",
    "        ctr = ctr + 1\n",
    "        if ctr == read_number_ampls:\n",
    "            break"
   ]
  },
  {
   "cell_type": "code",
   "execution_count": 6,
   "metadata": {},
   "outputs": [],
   "source": [
    "all_amplitudes = []\n",
    "for key in amplitudes.keys():\n",
    "    for x in amplitudes[key]:\n",
    "        all_amplitudes.append(x)\n",
    "\n",
    "all_sqamplitudes = []\n",
    "for key in sqamplitudes.keys():\n",
    "    for x in sqamplitudes[key]:\n",
    "        all_sqamplitudes.append(x)"
   ]
  },
  {
   "cell_type": "code",
   "execution_count": 7,
   "metadata": {},
   "outputs": [
    {
     "name": "stderr",
     "output_type": "stream",
     "text": [
      "ic| len(all_amplitudes): 20\n",
      "ic| len(all_sqamplitudes): 20\n",
      "ic| len(sqamplitudes_simplified): 20\n"
     ]
    },
    {
     "data": {
      "text/plain": [
       "20"
      ]
     },
     "execution_count": 7,
     "metadata": {},
     "output_type": "execute_result"
    }
   ],
   "source": [
    "ic(len(all_amplitudes))\n",
    "ic(len(all_sqamplitudes))\n",
    "ic(len(sqamplitudes_simplified))"
   ]
  },
  {
   "cell_type": "code",
   "execution_count": 8,
   "metadata": {},
   "outputs": [
    {
     "data": {
      "text/plain": [
       "array(['Prod(', '1/12', 'i', 'Pow', 'e', '3', 'Pow', 'Sum(', 'Pow', 'm_e',\n",
       "       '2', 's_13', 'Prod', '-1', 's_14', 'Prod', '-1', 's_34', 'Prod',\n",
       "       '1/2', 'reg_prop', ')', '-1', 'Pow', 'Sum', 's_34', 'Prod', '-1/2',\n",
       "       'reg_prop', '-1', 'Sum', 'Prod(', 'p_3', 'alpha_12', 'gamma',\n",
       "       'alpha_11', 'alpha_6', 'alpha_8', 'gamma', 'alpha_11', 'alpha_0',\n",
       "       'alpha_4', 'gamma', 'alpha_10', 'alpha_9', 'alpha_2', 'gamma',\n",
       "       'alpha_12', 'alpha_8', 'alpha_9', 'A', 'i_1', 'alpha_10', '(p_3)',\n",
       "       'd^(*)', 'i_2', 'alpha_0', '(p_2)_v', 'd', 'i_4', 'alpha_4',\n",
       "       '(p_5)_v', 'ee^(*)', 'i_0', 'alpha_6', '(p_1)_v', 'ee', 'i_3',\n",
       "       'alpha_2', '(p_4)_v', ')', 'Prod(', '-2', 'p_4', 'alpha_10',\n",
       "       'gamma', 'alpha_11', 'alpha_7', 'alpha_3', 'gamma', 'alpha_11',\n",
       "       'alpha_1', 'alpha_5', 'A', 'i_1', 'alpha_10', '(p_3)', 'd^(*)',\n",
       "       'i_2', 'alpha_1', '(p_2)_v', 'd', 'i_4', 'alpha_5', '(p_5)_v',\n",
       "       'ee^(*)', 'i_0', 'alpha_7', '(p_1)_v', 'ee', 'i_3', 'alpha_3',\n",
       "       '(p_4)_v', ')', ')'], dtype='<U8')"
      ]
     },
     "execution_count": 8,
     "metadata": {},
     "output_type": "execute_result"
    }
   ],
   "source": [
    "np.array(all_amplitudes[0])"
   ]
  },
  {
   "cell_type": "code",
   "execution_count": 16,
   "metadata": {},
   "outputs": [
    {
     "data": {
      "text/plain": [
       "'-1/576*i*e^3*(i*e^3*m_e^2*((-32)*m_d^2*s_13 + 32*s_15*s_23 + 64*m_d^2*s_34 + (-32)*s_25*s_34 + 32*s_12*s_35)/((m_e^2 + s_13 + -s_14 + -s_34 + 1/2*reg_prop)*(s_34 + -1/2*reg_prop)) + -1/2*i*e^3*s_34*(128*m_d^2*s_13 + (-128)*s_15*s_23 + (-128)*s_12*s_35)/((m_e^2 + s_13 + -s_14 + -s_34 + 1/2*reg_prop)*(s_34 + -1/2*reg_prop)))/((m_e^2 + s_13 + -s_14 + -s_34 + 1/2*reg_prop)*(s_34 + -1/2*reg_prop)) + -1/576*i*e^3*(i*e^3*m_e^2*((-32)*m_d^2*s_13 + 32*s_15*s_23 + 64*m_d^2*s_34 + (-32)*s_25*s_34 + 32*s_12*s_35)/((m_e^2 + s_13 + -s_14 + -s_34 + 1/2*reg_prop)*(s_34 + -1/2*reg_prop)) + (-2)*i*e^3*m_e^2*(64*m_d^2*m_e^2 + (-32)*m_d^2*s_14 + 32*s_15*s_24 + (-32)*m_e^2*s_25 + 32*s_12*s_45)/((m_e^2 + s_13 + -s_14 + -s_34 + 1/2*reg_prop)*(s_34 + -1/2*reg_prop)))/((m_e^2 + s_13 + -s_14 + -s_34 + 1/2*reg_prop)*(s_34 + -1/2*reg_prop))'"
      ]
     },
     "execution_count": 16,
     "metadata": {},
     "output_type": "execute_result"
    }
   ],
   "source": [
    "all_sqamplitudes[0]"
   ]
  },
  {
   "cell_type": "code",
   "execution_count": 10,
   "metadata": {},
   "outputs": [
    {
     "data": {
      "text/plain": [
       "'16*e**6*i**2*(2*m_d**2*m_e**4 + m_d**2*m_e**2*(s_13 - s_14 - 2*s_34) + m_d**2*s_13*s_34 - m_e**4*s_25 + m_e**2*(-s_12*s_35 + s_12*s_45 - s_15*s_23 + s_15*s_24 + s_25*s_34) - s_12*s_34*s_35 - s_15*s_23*s_34)/(9*(-reg_prop + 2*s_34)**2*(2*m_e**2 + reg_prop + 2*s_13 - 2*s_14 - 2*s_34)**2)'"
      ]
     },
     "execution_count": 10,
     "metadata": {},
     "output_type": "execute_result"
    }
   ],
   "source": [
    "np.array(sqamplitudes_simplified)[0]"
   ]
  },
  {
   "cell_type": "code",
   "execution_count": 11,
   "metadata": {},
   "outputs": [
    {
     "data": {
      "text/latex": [
       "$\\displaystyle \\frac{16 e^{6} i^{2} \\cdot \\left(2 m2d m2e^{2} + m2d m2e \\left(s_{13} - s_{14} - 2 s_{34}\\right) + m2dxs_{13} s_{34} + m2e \\left(- s_{12} s_{35} + s_{12} s_{45} - s_{15} s_{23} + s_{15} s_{24} + s_{25} s_{34}\\right) - m2e2xs_{25} - s_{12} s_{34} s_{35} - s_{15} s_{23} s_{34}\\right)}{9 \\left(- reg_{prop} + 2 s_{34}\\right)^{2} \\left(2 m2e + reg_{prop} + 2 s_{13} - 2 s_{14} - 2 s_{34}\\right)^{2}}$"
      ],
      "text/plain": [
       "16*e**6*i**2*(2*m2d*m2e**2 + m2d*m2e*(s_13 - s_14 - 2*s_34) + m2dxs_13*s_34 + m2e*(-s_12*s_35 + s_12*s_45 - s_15*s_23 + s_15*s_24 + s_25*s_34) - m2e2xs_25 - s_12*s_34*s_35 - s_15*s_23*s_34)/(9*(-reg_prop + 2*s_34)**2*(2*m2e + reg_prop + 2*s_13 - 2*s_14 - 2*s_34)**2)"
      ]
     },
     "execution_count": 11,
     "metadata": {},
     "output_type": "execute_result"
    }
   ],
   "source": [
    "shorten_expression(sqamplitudes_simplified[0])"
   ]
  },
  {
   "cell_type": "code",
   "execution_count": 12,
   "metadata": {},
   "outputs": [
    {
     "data": {
      "text/plain": [
       "'16*e**6*i**2*(2*m2d*m2e**2 + m2d*m2e*(s_13 - s_14 - 2*s_34) + m2dxs_13*s_34 + m2e*(-s_12*s_35 + s_12*s_45 - s_15*s_23 + s_15*s_24 + s_25*s_34) - m2e2xs_25 - s_12*s_34*s_35 - s_15*s_23*s_34)/(9*(-reg_prop + 2*s_34)**2*(2*m2e + reg_prop + 2*s_13 - 2*s_14 - 2*s_34)**2)'"
      ]
     },
     "execution_count": 12,
     "metadata": {},
     "output_type": "execute_result"
    }
   ],
   "source": [
    "str(shorten_expression(sqamplitudes_simplified[0]))"
   ]
  },
  {
   "cell_type": "code",
   "execution_count": 15,
   "metadata": {},
   "outputs": [
    {
     "data": {
      "text/plain": [
       "array(['mul(', 'mul', '16', 'pow', '9', 's-', '1', 'pow', 'e', '6', 'pow',\n",
       "       'i', '2', 'pow', 'add(', 'mul(', 's-', '1', 'reg_prop', ')',\n",
       "       'mul(', '2', 's_34', ')', ')', 's-', '2', 'pow', 'add(',\n",
       "       'reg_prop', 'mul(', 's-', '2', 's_14', ')', 'mul(', 's-', '2',\n",
       "       's_34', ')', 'mul(', '2', 'm2e', ')', 'mul(', '2', 's_13', ')',\n",
       "       ')', 's-', '2', 'add(', 'mul(', 's-', '1', 'm2e2xs_25', ')',\n",
       "       'mul(', 'm2dxs_13', 's_34', ')', 'mul(', 'm2e', 'add(', 'mul(',\n",
       "       's_12', 's_45', ')', 'mul(', 's_15', 's_24', ')', 'mul(', 's_25',\n",
       "       's_34', ')', 'mul(', 's-', '1', 's_12', 's_35', ')', 'mul(', 's-',\n",
       "       '1', 's_15', 's_23', ')', ')', ')', 'mul(', '2', 'm2d', 'pow',\n",
       "       'm2e', '2', ')', 'mul(', 'm2d', 'm2e', 'add(', 's_13', 'mul(',\n",
       "       's-', '1', 's_14', ')', 'mul(', 's-', '2', 's_34', ')', ')', ')',\n",
       "       'mul(', 's-', '1', 's_12', 's_34', 's_35', ')', 'mul(', 's-', '1',\n",
       "       's_15', 's_23', 's_34', ')', ')', ')'], dtype='<U21')"
      ]
     },
     "execution_count": 15,
     "metadata": {},
     "output_type": "execute_result"
    }
   ],
   "source": [
    "np.array(sympy_to_hybrid_prefix(shorten_expression(sqamplitudes_simplified[0])))"
   ]
  },
  {
   "cell_type": "code",
   "execution_count": 17,
   "metadata": {},
   "outputs": [
    {
     "data": {
      "text/plain": [
       "['mul(', 16, 'pow', 'e', 6, ')']"
      ]
     },
     "execution_count": 17,
     "metadata": {},
     "output_type": "execute_result"
    }
   ],
   "source": [
    "sympy_to_hybrid_prefix(sp.sympify(\"16*e**6\"))"
   ]
  },
  {
   "cell_type": "code",
   "execution_count": 18,
   "metadata": {},
   "outputs": [
    {
     "data": {
      "text/plain": [
       "['mul', 16, 'pow', 9, 's-', '1']"
      ]
     },
     "execution_count": 18,
     "metadata": {},
     "output_type": "execute_result"
    }
   ],
   "source": [
    "sympy_to_hybrid_prefix(sp.sympify(\"16/9\"))"
   ]
  },
  {
   "cell_type": "code",
   "execution_count": null,
   "metadata": {},
   "outputs": [],
   "source": []
  }
 ],
 "metadata": {
  "kernelspec": {
   "display_name": "Python 3.10.6 64-bit",
   "language": "python",
   "name": "python3"
  },
  "language_info": {
   "codemirror_mode": {
    "name": "ipython",
    "version": 3
   },
   "file_extension": ".py",
   "mimetype": "text/x-python",
   "name": "python",
   "nbconvert_exporter": "python",
   "pygments_lexer": "ipython3",
   "version": "3.10.6"
  },
  "orig_nbformat": 4,
  "vscode": {
   "interpreter": {
    "hash": "e7370f93d1d0cde622a1f8e1c04877d8463912d04d973331ad4851f04de6915a"
   }
  }
 },
 "nbformat": 4,
 "nbformat_minor": 2
}
