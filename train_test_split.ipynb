{
 "cells": [
  {
   "cell_type": "code",
   "execution_count": 98,
   "metadata": {},
   "outputs": [],
   "source": [
    "import os\n",
    "import sys\n",
    "from icecream import ic \n",
    "import csv\n",
    "import numpy as np\n",
    "import matplotlib.pyplot as plt\n",
    "from sklearn.model_selection import train_test_split"
   ]
  },
  {
   "cell_type": "code",
   "execution_count": 99,
   "metadata": {},
   "outputs": [
    {
     "data": {
      "text/plain": [
       "['.git',\n",
       " 'README.md',\n",
       " '.gitignore',\n",
       " 'sympy-prefix',\n",
       " 'data-generation-marty',\n",
       " 'data.nosync',\n",
       " 'models',\n",
       " 'data-preprocessing',\n",
       " 'train_test_split.ipynb']"
      ]
     },
     "execution_count": 99,
     "metadata": {},
     "output_type": "execute_result"
    }
   ],
   "source": [
    "os.listdir()"
   ]
  },
  {
   "cell_type": "markdown",
   "metadata": {},
   "source": [
    "# 1to2"
   ]
  },
  {
   "cell_type": "code",
   "execution_count": 100,
   "metadata": {},
   "outputs": [],
   "source": [
    "amplitudes_file = \"data.nosync/QED_amplitudes_TreeLevel_1to2.txt\"\n",
    "sqamplitudes_file = \"data.nosync/QED_sqamplitudes_TreeLevel_1to2_simplified_shortened_hybridprefix.txt\""
   ]
  },
  {
   "cell_type": "code",
   "execution_count": 101,
   "metadata": {},
   "outputs": [],
   "source": [
    "X = []\n",
    "with open(amplitudes_file, 'r') as f:\n",
    "    for line in f.readlines() :\n",
    "        line = line.split(\",\")\n",
    "        line[-1] = line[-1].replace(\"\\n\", \"\")\n",
    "        X.append(line)\n",
    "\n",
    "y = []\n",
    "with open(sqamplitudes_file, 'r') as f:\n",
    "    for line in f.readlines() :\n",
    "        line = line.split(\",\")\n",
    "        line[-1] = line[-1].replace(\"\\n\", \"\")\n",
    "        line = [\"[START]\"] + line + [\"[END]\"]\n",
    "        y.append(line)"
   ]
  },
  {
   "cell_type": "code",
   "execution_count": 102,
   "metadata": {},
   "outputs": [
    {
     "name": "stderr",
     "output_type": "stream",
     "text": [
      "ic| len(X): 432\n",
      "ic| len(y): 432\n"
     ]
    }
   ],
   "source": [
    "ic(len(X));\n",
    "ic(len(y));"
   ]
  },
  {
   "cell_type": "code",
   "execution_count": 103,
   "metadata": {},
   "outputs": [],
   "source": [
    "X_train, X_test, y_train, y_test = train_test_split(X, y, test_size=0.2, random_state=42)"
   ]
  },
  {
   "cell_type": "code",
   "execution_count": 104,
   "metadata": {},
   "outputs": [
    {
     "name": "stderr",
     "output_type": "stream",
     "text": [
      "ic| len(X_test): 87\n",
      "ic| len(y_test): 87\n"
     ]
    }
   ],
   "source": [
    "ic(len(X_test));\n",
    "ic(len(y_test));"
   ]
  },
  {
   "cell_type": "code",
   "execution_count": 105,
   "metadata": {},
   "outputs": [],
   "source": [
    "amplitudes_file_train = \"data.nosync/train/QED_amplitudes_TreeLevel_1to2_train.txt\"\n",
    "sqamplitudes_file_train = \"data.nosync/train/QED_sqamplitudes_TreeLevel_1to2_simplified_shortened_hybridprefix_train.txt\"\n",
    "amplitudes_file_test = \"data.nosync/test/QED_amplitudes_TreeLevel_1to2_test.txt\"\n",
    "sqamplitudes_file_test = \"data.nosync/test/QED_sqamplitudes_TreeLevel_1to2_simplified_shortened_hybridprefix_test.txt\""
   ]
  },
  {
   "cell_type": "code",
   "execution_count": 106,
   "metadata": {},
   "outputs": [],
   "source": [
    "try:\n",
    "    os.remove(amplitudes_file_train)\n",
    "except:\n",
    "    pass\n",
    "with open(amplitudes_file_train, 'w') as f:\n",
    "    for line in X_train:\n",
    "        f.write(\",\".join(line)+\"\\n\")\n",
    "\n",
    "try:\n",
    "    os.remove(amplitudes_file_test)\n",
    "except:\n",
    "    pass\n",
    "with open(amplitudes_file_test, 'w') as f:\n",
    "    for line in X_test:\n",
    "        f.write(\",\".join(line)+\"\\n\")"
   ]
  },
  {
   "cell_type": "code",
   "execution_count": 107,
   "metadata": {},
   "outputs": [],
   "source": [
    "try:\n",
    "    os.remove(sqamplitudes_file_train)\n",
    "except:\n",
    "    pass\n",
    "with open(sqamplitudes_file_train, 'w') as f:\n",
    "    for line in y_train:\n",
    "        f.write(\",\".join(line)+\"\\n\")\n",
    "\n",
    "try:\n",
    "    os.remove(sqamplitudes_file_test)\n",
    "except:\n",
    "    pass\n",
    "with open(sqamplitudes_file_test, 'w') as f:\n",
    "    for line in y_test:\n",
    "        f.write(\",\".join(line)+\"\\n\")"
   ]
  },
  {
   "cell_type": "markdown",
   "metadata": {},
   "source": [
    "# 2to1"
   ]
  },
  {
   "cell_type": "code",
   "execution_count": 108,
   "metadata": {},
   "outputs": [],
   "source": [
    "amplitudes_file = \"data.nosync/QED_amplitudes_TreeLevel_2to1.txt\"\n",
    "sqamplitudes_file = \"data.nosync/QED_sqamplitudes_TreeLevel_2to1_simplified_shortened_hybridprefix.txt\""
   ]
  },
  {
   "cell_type": "code",
   "execution_count": 109,
   "metadata": {},
   "outputs": [],
   "source": [
    "X = []\n",
    "with open(amplitudes_file, 'r') as f:\n",
    "    for line in f.readlines() :\n",
    "        line = line.split(\",\")\n",
    "        line[-1] = line[-1].replace(\"\\n\", \"\")\n",
    "        X.append(line)\n",
    "\n",
    "y = []\n",
    "with open(sqamplitudes_file, 'r') as f:\n",
    "    for line in f.readlines() :\n",
    "        line = line.split(\",\")\n",
    "        line[-1] = line[-1].replace(\"\\n\", \"\")\n",
    "        line = [\"[START]\"] + line + [\"[END]\"]\n",
    "        y.append(line)"
   ]
  },
  {
   "cell_type": "code",
   "execution_count": 110,
   "metadata": {},
   "outputs": [
    {
     "name": "stderr",
     "output_type": "stream",
     "text": [
      "ic| len(X): 432\n",
      "ic| len(y): 432\n"
     ]
    }
   ],
   "source": [
    "ic(len(X));\n",
    "ic(len(y));"
   ]
  },
  {
   "cell_type": "code",
   "execution_count": 111,
   "metadata": {},
   "outputs": [],
   "source": [
    "X_train, X_test, y_train, y_test = train_test_split(X, y, test_size=0.2, random_state=42)"
   ]
  },
  {
   "cell_type": "code",
   "execution_count": 112,
   "metadata": {},
   "outputs": [
    {
     "name": "stderr",
     "output_type": "stream",
     "text": [
      "ic| len(X_test): 87\n",
      "ic| len(y_test): 87\n"
     ]
    }
   ],
   "source": [
    "ic(len(X_test));\n",
    "ic(len(y_test));"
   ]
  },
  {
   "cell_type": "code",
   "execution_count": 113,
   "metadata": {},
   "outputs": [],
   "source": [
    "amplitudes_file_train = \"data.nosync/train/QED_amplitudes_TreeLevel_2to1_train.txt\"\n",
    "sqamplitudes_file_train = \"data.nosync/train/QED_sqamplitudes_TreeLevel_2to1_simplified_shortened_hybridprefix_train.txt\"\n",
    "amplitudes_file_test = \"data.nosync/test/QED_amplitudes_TreeLevel_2to1_test.txt\"\n",
    "sqamplitudes_file_test = \"data.nosync/test/QED_sqamplitudes_TreeLevel_2to1_simplified_shortened_hybridprefix_test.txt\""
   ]
  },
  {
   "cell_type": "code",
   "execution_count": 114,
   "metadata": {},
   "outputs": [],
   "source": [
    "try:\n",
    "    os.remove(amplitudes_file_train)\n",
    "except:\n",
    "    pass\n",
    "with open(amplitudes_file_train, 'w') as f:\n",
    "    for line in X_train:\n",
    "        f.write(\",\".join(line)+\"\\n\")\n",
    "\n",
    "try:\n",
    "    os.remove(amplitudes_file_test)\n",
    "except:\n",
    "    pass\n",
    "with open(amplitudes_file_test, 'w') as f:\n",
    "    for line in X_test:\n",
    "        f.write(\",\".join(line)+\"\\n\")"
   ]
  },
  {
   "cell_type": "code",
   "execution_count": 115,
   "metadata": {},
   "outputs": [],
   "source": [
    "try:\n",
    "    os.remove(sqamplitudes_file_train)\n",
    "except:\n",
    "    pass\n",
    "with open(sqamplitudes_file_train, 'w') as f:\n",
    "    for line in y_train:\n",
    "        f.write(\",\".join(line)+\"\\n\")\n",
    "\n",
    "try:\n",
    "    os.remove(sqamplitudes_file_test)\n",
    "except:\n",
    "    pass\n",
    "with open(sqamplitudes_file_test, 'w') as f:\n",
    "    for line in y_test:\n",
    "        f.write(\",\".join(line)+\"\\n\")"
   ]
  },
  {
   "cell_type": "markdown",
   "metadata": {},
   "source": [
    "# 2to2"
   ]
  },
  {
   "cell_type": "code",
   "execution_count": 116,
   "metadata": {},
   "outputs": [],
   "source": [
    "amplitudes_file = \"data.nosync/QED_amplitudes_TreeLevel_1to2.txt\"\n",
    "sqamplitudes_file = \"data.nosync/QED_sqamplitudes_TreeLevel_1to2_simplified_shortened_hybridprefix.txt\""
   ]
  },
  {
   "cell_type": "code",
   "execution_count": 117,
   "metadata": {},
   "outputs": [],
   "source": [
    "X = []\n",
    "with open(amplitudes_file, 'r') as f:\n",
    "    for line in f.readlines() :\n",
    "        line = line.split(\",\")\n",
    "        line[-1] = line[-1].replace(\"\\n\", \"\")\n",
    "        X.append(line)\n",
    "\n",
    "y = []\n",
    "with open(sqamplitudes_file, 'r') as f:\n",
    "    for line in f.readlines() :\n",
    "        line = line.split(\",\")\n",
    "        line[-1] = line[-1].replace(\"\\n\", \"\")\n",
    "        line = [\"[START]\"] + line + [\"[END]\"]\n",
    "        y.append(line)"
   ]
  },
  {
   "cell_type": "code",
   "execution_count": 118,
   "metadata": {},
   "outputs": [
    {
     "name": "stderr",
     "output_type": "stream",
     "text": [
      "ic| len(X): 432\n",
      "ic| len(y): 432\n"
     ]
    }
   ],
   "source": [
    "ic(len(X));\n",
    "ic(len(y));"
   ]
  },
  {
   "cell_type": "code",
   "execution_count": 119,
   "metadata": {},
   "outputs": [],
   "source": [
    "X_train, X_test, y_train, y_test = train_test_split(X, y, test_size=0.08, random_state=42)"
   ]
  },
  {
   "cell_type": "code",
   "execution_count": 120,
   "metadata": {},
   "outputs": [
    {
     "name": "stderr",
     "output_type": "stream",
     "text": [
      "ic| len(X_test): 35\n",
      "ic| len(y_test): 35\n"
     ]
    }
   ],
   "source": [
    "ic(len(X_test));\n",
    "ic(len(y_test));"
   ]
  },
  {
   "cell_type": "code",
   "execution_count": 121,
   "metadata": {},
   "outputs": [],
   "source": [
    "amplitudes_file_train = \"data.nosync/train/QED_amplitudes_TreeLevel_2to2_train.txt\"\n",
    "sqamplitudes_file_train = \"data.nosync/train/QED_sqamplitudes_TreeLevel_2to2_simplified_shortened_hybridprefix_train.txt\"\n",
    "amplitudes_file_test = \"data.nosync/test/QED_amplitudes_TreeLevel_2to2_test.txt\"\n",
    "sqamplitudes_file_test = \"data.nosync/test/QED_sqamplitudes_TreeLevel_2to2_simplified_shortened_hybridprefix_test.txt\""
   ]
  },
  {
   "cell_type": "code",
   "execution_count": 122,
   "metadata": {},
   "outputs": [],
   "source": [
    "try:\n",
    "    os.remove(amplitudes_file_train)\n",
    "except:\n",
    "    pass\n",
    "with open(amplitudes_file_train, 'w') as f:\n",
    "    for line in X_train:\n",
    "        f.write(\",\".join(line)+\"\\n\")\n",
    "\n",
    "try:\n",
    "    os.remove(amplitudes_file_test)\n",
    "except:\n",
    "    pass\n",
    "with open(amplitudes_file_test, 'w') as f:\n",
    "    for line in X_test:\n",
    "        f.write(\",\".join(line)+\"\\n\")"
   ]
  },
  {
   "cell_type": "code",
   "execution_count": 123,
   "metadata": {},
   "outputs": [],
   "source": [
    "try:\n",
    "    os.remove(sqamplitudes_file_train)\n",
    "except:\n",
    "    pass\n",
    "with open(sqamplitudes_file_train, 'w') as f:\n",
    "    for line in y_train:\n",
    "        f.write(\",\".join(line)+\"\\n\")\n",
    "\n",
    "try:\n",
    "    os.remove(sqamplitudes_file_test)\n",
    "except:\n",
    "    pass\n",
    "with open(sqamplitudes_file_test, 'w') as f:\n",
    "    for line in y_test:\n",
    "        f.write(\",\".join(line)+\"\\n\")"
   ]
  },
  {
   "cell_type": "markdown",
   "metadata": {},
   "source": [
    "# 2to3"
   ]
  },
  {
   "cell_type": "code",
   "execution_count": 124,
   "metadata": {},
   "outputs": [],
   "source": [
    "amplitudes_file = \"data.nosync/QED_amplitudes_TreeLevel_2to3.txt\"\n",
    "sqamplitudes_file = \"data.nosync/QED_sqamplitudes_TreeLevel_2to3_simplified_shortened_hybridprefix.txt\""
   ]
  },
  {
   "cell_type": "code",
   "execution_count": 125,
   "metadata": {},
   "outputs": [],
   "source": [
    "X = []\n",
    "with open(amplitudes_file, 'r') as f:\n",
    "    for line in f.readlines() :\n",
    "        line = line.split(\",\")\n",
    "        line[-1] = line[-1].replace(\"\\n\", \"\")\n",
    "        X.append(line)\n",
    "\n",
    "y = []\n",
    "with open(sqamplitudes_file, 'r') as f:\n",
    "    for line in f.readlines() :\n",
    "        line = line.split(\",\")\n",
    "        line[-1] = line[-1].replace(\"\\n\", \"\")\n",
    "        line = [\"[START]\"] + line + [\"[END]\"]\n",
    "        y.append(line)"
   ]
  },
  {
   "cell_type": "code",
   "execution_count": 126,
   "metadata": {},
   "outputs": [
    {
     "name": "stderr",
     "output_type": "stream",
     "text": [
      "ic| len(X): 129024\n",
      "ic| len(y): 129024\n"
     ]
    }
   ],
   "source": [
    "ic(len(X));\n",
    "ic(len(y));"
   ]
  },
  {
   "cell_type": "code",
   "execution_count": 127,
   "metadata": {},
   "outputs": [],
   "source": [
    "X_train, X_test, y_train, y_test = train_test_split(X, y, test_size=0.08, random_state=42)"
   ]
  },
  {
   "cell_type": "code",
   "execution_count": 128,
   "metadata": {},
   "outputs": [
    {
     "name": "stderr",
     "output_type": "stream",
     "text": [
      "ic| len(X_test): 10322\n",
      "ic| len(y_test): 10322\n"
     ]
    }
   ],
   "source": [
    "ic(len(X_test));\n",
    "ic(len(y_test));"
   ]
  },
  {
   "cell_type": "code",
   "execution_count": 129,
   "metadata": {},
   "outputs": [],
   "source": [
    "amplitudes_file_train = \"data.nosync/train/QED_amplitudes_TreeLevel_2to3_train.txt\"\n",
    "sqamplitudes_file_train = \"data.nosync/train/QED_sqamplitudes_TreeLevel_2to3_simplified_shortened_hybridprefix_train.txt\"\n",
    "amplitudes_file_test = \"data.nosync/test/QED_amplitudes_TreeLevel_2to3_test.txt\"\n",
    "sqamplitudes_file_test = \"data.nosync/test/QED_sqamplitudes_TreeLevel_2to3_simplified_shortened_hybridprefix_test.txt\""
   ]
  },
  {
   "cell_type": "code",
   "execution_count": 130,
   "metadata": {},
   "outputs": [],
   "source": [
    "try:\n",
    "    os.remove(amplitudes_file_train)\n",
    "except:\n",
    "    pass\n",
    "with open(amplitudes_file_train, 'w') as f:\n",
    "    for line in X_train:\n",
    "        f.write(\",\".join(line)+\"\\n\")\n",
    "\n",
    "try:\n",
    "    os.remove(amplitudes_file_test)\n",
    "except:\n",
    "    pass\n",
    "with open(amplitudes_file_test, 'w') as f:\n",
    "    for line in X_test:\n",
    "        f.write(\",\".join(line)+\"\\n\")"
   ]
  },
  {
   "cell_type": "code",
   "execution_count": 131,
   "metadata": {},
   "outputs": [],
   "source": [
    "try:\n",
    "    os.remove(sqamplitudes_file_train)\n",
    "except:\n",
    "    pass\n",
    "with open(sqamplitudes_file_train, 'w') as f:\n",
    "    for line in y_train:\n",
    "        f.write(\",\".join(line)+\"\\n\")\n",
    "\n",
    "try:\n",
    "    os.remove(sqamplitudes_file_test)\n",
    "except:\n",
    "    pass\n",
    "with open(sqamplitudes_file_test, 'w') as f:\n",
    "    for line in y_test:\n",
    "        f.write(\",\".join(line)+\"\\n\")"
   ]
  },
  {
   "cell_type": "markdown",
   "metadata": {},
   "source": [
    "# 3to2"
   ]
  },
  {
   "cell_type": "code",
   "execution_count": 132,
   "metadata": {},
   "outputs": [],
   "source": [
    "amplitudes_file = \"data.nosync/QED_amplitudes_TreeLevel_3to2.txt\"\n",
    "sqamplitudes_file = \"data.nosync/QED_sqamplitudes_TreeLevel_3to2_simplified_shortened_hybridprefix.txt\""
   ]
  },
  {
   "cell_type": "code",
   "execution_count": 133,
   "metadata": {},
   "outputs": [],
   "source": [
    "X = []\n",
    "with open(amplitudes_file, 'r') as f:\n",
    "    for line in f.readlines() :\n",
    "        line = line.split(\",\")\n",
    "        line[-1] = line[-1].replace(\"\\n\", \"\")\n",
    "        X.append(line)\n",
    "\n",
    "y = []\n",
    "with open(sqamplitudes_file, 'r') as f:\n",
    "    for line in f.readlines() :\n",
    "        line = line.split(\",\")\n",
    "        line[-1] = line[-1].replace(\"\\n\", \"\")\n",
    "        line = [\"[START]\"] + line + [\"[END]\"]\n",
    "        y.append(line)"
   ]
  },
  {
   "cell_type": "code",
   "execution_count": 134,
   "metadata": {},
   "outputs": [
    {
     "name": "stderr",
     "output_type": "stream",
     "text": [
      "ic| len(X): 129024\n",
      "ic| len(y): 129024\n"
     ]
    }
   ],
   "source": [
    "ic(len(X));\n",
    "ic(len(y));"
   ]
  },
  {
   "cell_type": "code",
   "execution_count": 135,
   "metadata": {},
   "outputs": [],
   "source": [
    "X_train, X_test, y_train, y_test = train_test_split(X, y, test_size=0.08, random_state=42)"
   ]
  },
  {
   "cell_type": "code",
   "execution_count": 136,
   "metadata": {},
   "outputs": [
    {
     "name": "stderr",
     "output_type": "stream",
     "text": [
      "ic| len(X_test): 10322\n",
      "ic| len(y_test): 10322\n"
     ]
    }
   ],
   "source": [
    "ic(len(X_test));\n",
    "ic(len(y_test));"
   ]
  },
  {
   "cell_type": "code",
   "execution_count": 137,
   "metadata": {},
   "outputs": [],
   "source": [
    "amplitudes_file_train = \"data.nosync/train/QED_amplitudes_TreeLevel_3to2_train.txt\"\n",
    "sqamplitudes_file_train = \"data.nosync/train/QED_sqamplitudes_TreeLevel_3to2_simplified_shortened_hybridprefix_train.txt\"\n",
    "amplitudes_file_test = \"data.nosync/test/QED_amplitudes_TreeLevel_3to2_test.txt\"\n",
    "sqamplitudes_file_test = \"data.nosync/test/QED_sqamplitudes_TreeLevel_3to2_simplified_shortened_hybridprefix_test.txt\""
   ]
  },
  {
   "cell_type": "code",
   "execution_count": 138,
   "metadata": {},
   "outputs": [],
   "source": [
    "try:\n",
    "    os.remove(amplitudes_file_train)\n",
    "except:\n",
    "    pass\n",
    "with open(amplitudes_file_train, 'w') as f:\n",
    "    for line in X_train:\n",
    "        f.write(\",\".join(line)+\"\\n\")\n",
    "\n",
    "try:\n",
    "    os.remove(amplitudes_file_test)\n",
    "except:\n",
    "    pass\n",
    "with open(amplitudes_file_test, 'w') as f:\n",
    "    for line in X_test:\n",
    "        f.write(\",\".join(line)+\"\\n\")"
   ]
  },
  {
   "cell_type": "code",
   "execution_count": 139,
   "metadata": {},
   "outputs": [],
   "source": [
    "try:\n",
    "    os.remove(sqamplitudes_file_train)\n",
    "except:\n",
    "    pass\n",
    "with open(sqamplitudes_file_train, 'w') as f:\n",
    "    for line in y_train:\n",
    "        f.write(\",\".join(line)+\"\\n\")\n",
    "\n",
    "try:\n",
    "    os.remove(sqamplitudes_file_test)\n",
    "except:\n",
    "    pass\n",
    "with open(sqamplitudes_file_test, 'w') as f:\n",
    "    for line in y_test:\n",
    "        f.write(\",\".join(line)+\"\\n\")"
   ]
  },
  {
   "cell_type": "code",
   "execution_count": null,
   "metadata": {},
   "outputs": [],
   "source": []
  }
 ],
 "metadata": {
  "kernelspec": {
   "display_name": "Python 3.10.6 64-bit",
   "language": "python",
   "name": "python3"
  },
  "language_info": {
   "codemirror_mode": {
    "name": "ipython",
    "version": 3
   },
   "file_extension": ".py",
   "mimetype": "text/x-python",
   "name": "python",
   "nbconvert_exporter": "python",
   "pygments_lexer": "ipython3",
   "version": "3.10.6"
  },
  "orig_nbformat": 4,
  "vscode": {
   "interpreter": {
    "hash": "e7370f93d1d0cde622a1f8e1c04877d8463912d04d973331ad4851f04de6915a"
   }
  }
 },
 "nbformat": 4,
 "nbformat_minor": 2
}
