{
  "cells": [
    {
      "cell_type": "markdown",
      "source": [
        "QED Data 3 to 2 processes."
      ],
      "metadata": {
        "id": "zHioKca-AXXj"
      }
    },
    {
      "cell_type": "markdown",
      "metadata": {
        "id": "j77hUjNXm5ib"
      },
      "source": [
        "Transformer code adapted from https://keras.io/examples/nlp/neural_machine_translation_with_transformer/"
      ]
    },
    {
      "cell_type": "code",
      "execution_count": null,
      "metadata": {
        "colab": {
          "base_uri": "https://localhost:8080/"
        },
        "id": "6qEH2hbKAK5D",
        "outputId": "0626e447-94bf-4e6d-abe0-f1f87a82fe03"
      },
      "outputs": [
        {
          "output_type": "stream",
          "name": "stdout",
          "text": [
            "Looking in indexes: https://pypi.org/simple, https://us-python.pkg.dev/colab-wheels/public/simple/\n",
            "Collecting icecream\n",
            "  Downloading icecream-2.1.3-py2.py3-none-any.whl (8.4 kB)\n",
            "Requirement already satisfied: more_itertools in /usr/local/lib/python3.7/dist-packages (8.14.0)\n",
            "Collecting executing>=0.3.1\n",
            "  Downloading executing-0.10.0-py2.py3-none-any.whl (17 kB)\n",
            "Collecting asttokens>=2.0.1\n",
            "  Downloading asttokens-2.0.8-py2.py3-none-any.whl (23 kB)\n",
            "Collecting colorama>=0.3.9\n",
            "  Downloading colorama-0.4.5-py2.py3-none-any.whl (16 kB)\n",
            "Requirement already satisfied: pygments>=2.2.0 in /usr/local/lib/python3.7/dist-packages (from icecream) (2.6.1)\n",
            "Requirement already satisfied: six in /usr/local/lib/python3.7/dist-packages (from asttokens>=2.0.1->icecream) (1.15.0)\n",
            "Installing collected packages: executing, colorama, asttokens, icecream\n",
            "Successfully installed asttokens-2.0.8 colorama-0.4.5 executing-0.10.0 icecream-2.1.3\n"
          ]
        }
      ],
      "source": [
        "pip install icecream more_itertools"
      ]
    },
    {
      "cell_type": "code",
      "execution_count": null,
      "metadata": {
        "id": "NuKVH3YBBd6C",
        "colab": {
          "base_uri": "https://localhost:8080/"
        },
        "outputId": "6016954d-4045-4790-ebf7-0cb9c5951274"
      },
      "outputs": [
        {
          "output_type": "stream",
          "name": "stdout",
          "text": [
            "Mounted at /content/drive\n"
          ]
        }
      ],
      "source": [
        "# only needed for colab\n",
        "from google.colab import drive\n",
        "drive.mount('/content/drive')"
      ]
    },
    {
      "cell_type": "code",
      "execution_count": null,
      "metadata": {
        "id": "xzulqDrkBhLc"
      },
      "outputs": [],
      "source": [
        "import os\n",
        "os.chdir('/content/drive/MyDrive/SYMBA/2022-08-24-Transformer-NewData')\n",
        "# os.chdir(\"..\")"
      ]
    },
    {
      "cell_type": "code",
      "execution_count": null,
      "metadata": {
        "id": "G5c0dUUGBr5W",
        "colab": {
          "base_uri": "https://localhost:8080/"
        },
        "outputId": "7eada981-447c-4540-f437-e33f873f87cc"
      },
      "outputs": [
        {
          "output_type": "execute_result",
          "data": {
            "text/plain": [
              "['Notebooks',\n",
              " 'models',\n",
              " '2022-08-24-Transformer',\n",
              " '2022-08-24-Transformer_UpTo2to2',\n",
              " '2022-08-24-Transformer_3to2']"
            ]
          },
          "metadata": {},
          "execution_count": 4
        }
      ],
      "source": [
        "os.listdir()"
      ]
    },
    {
      "cell_type": "code",
      "execution_count": null,
      "metadata": {
        "id": "9A9Y1io1AKa6"
      },
      "outputs": [],
      "source": [
        "import sys\n",
        "import os\n",
        "from icecream import ic \n",
        "import csv\n",
        "import numpy as np\n",
        "import matplotlib.pyplot as plt\n",
        "from sklearn.model_selection import train_test_split\n",
        "\n",
        "# from source.read_amplitudes import read_amplitudes, fix_operator_num_args, get_tree, fix_tree, fix_subscript, fix_subscripts, read_amplitudes_and_squares\n",
        "  "
      ]
    },
    {
      "cell_type": "code",
      "execution_count": null,
      "metadata": {
        "id": "EDUHCTk_AKa8"
      },
      "outputs": [],
      "source": [
        "import pathlib\n",
        "import random\n",
        "import string\n",
        "import re\n",
        "import numpy as np\n",
        "import tensorflow as tf\n",
        "from tensorflow import keras\n",
        "from tensorflow.keras import layers\n",
        "from tensorflow.keras.layers import TextVectorization\n"
      ]
    },
    {
      "cell_type": "code",
      "execution_count": null,
      "metadata": {
        "id": "a9ETi0bqixYO"
      },
      "outputs": [],
      "source": [
        "# import tensorflow as tf\n",
        "# print(\"Tensorflow version \" + tf.__version__)\n",
        "\n",
        "# try:\n",
        "#   tpu = tf.distribute.cluster_resolver.TPUClusterResolver()  # TPU detection\n",
        "#   print('Running on TPU ', tpu.cluster_spec().as_dict()['worker'])\n",
        "# except ValueError:\n",
        "#   raise BaseException('ERROR: Not connected to a TPU runtime; please see the previous cell in this notebook for instructions!')\n",
        "\n",
        "# tf.config.experimental_connect_to_cluster(tpu)\n",
        "# tf.tpu.experimental.initialize_tpu_system(tpu)\n",
        "# tpu_strategy = tf.distribute.experimental.TPUStrategy(tpu)"
      ]
    },
    {
      "cell_type": "markdown",
      "metadata": {
        "id": "N-WbL192AKa8"
      },
      "source": [
        "# Reading in Data"
      ]
    },
    {
      "cell_type": "code",
      "execution_count": null,
      "metadata": {
        "id": "XhJwRNokAKa9",
        "colab": {
          "base_uri": "https://localhost:8080/"
        },
        "outputId": "8f34d8f6-3a61-41dc-9632-ae419b417bc2"
      },
      "outputs": [
        {
          "output_type": "execute_result",
          "data": {
            "text/plain": [
              "['Notebooks',\n",
              " 'models',\n",
              " '2022-08-24-Transformer',\n",
              " '2022-08-24-Transformer_UpTo2to2',\n",
              " '2022-08-24-Transformer_3to2']"
            ]
          },
          "metadata": {},
          "execution_count": 8
        }
      ],
      "source": [
        "os.listdir()"
      ]
    },
    {
      "cell_type": "code",
      "execution_count": null,
      "metadata": {
        "id": "GGzjopcfAKa9"
      },
      "outputs": [],
      "source": [
        "amplitudes_file = \"../data.nosync/QED_amplitudes_TreeLevel_3to2.txt\"\n",
        "sqamplitudes_file = \"../data.nosync/QED_sqamplitudes_TreeLevel_3to2_simplified_hybrid_prefix_2.txt\""
      ]
    },
    {
      "cell_type": "code",
      "execution_count": null,
      "metadata": {
        "id": "g8BWBW6FAKa-"
      },
      "outputs": [],
      "source": [
        "X = []\n",
        "with open(amplitudes_file, 'r') as f:\n",
        "    for line in f.readlines() :\n",
        "        line = line.split(\",\")\n",
        "        line[-1] = line[-1].replace(\"\\n\", \"\")\n",
        "        X.append(line)\n",
        "\n",
        "y = []\n",
        "with open(sqamplitudes_file, 'r') as f:\n",
        "    for line in f.readlines() :\n",
        "        line = line.split(\",\")\n",
        "        line[-1] = line[-1].replace(\"\\n\", \"\")\n",
        "        line = [\"[START]\"] + line + [\"[END]\"]\n",
        "        y.append(line)"
      ]
    },
    {
      "cell_type": "code",
      "execution_count": null,
      "metadata": {
        "colab": {
          "base_uri": "https://localhost:8080/"
        },
        "id": "4l-GAypr9ySs",
        "outputId": "17df49bd-a5f0-46cf-c28f-03e687aa51e9"
      },
      "outputs": [
        {
          "output_type": "execute_result",
          "data": {
            "text/plain": [
              "array(['[START]', 'mul(', 'mul', 's-', '16', 'pow', '9', 's-', '1', 'pow',\n",
              "       'e', '6', 'pow', 'add(', 'mul(', 's-', '1', 'reg_prop', ')',\n",
              "       'mul(', '2', 's_34', ')', ')', 's-', '2', 'pow', 'add(',\n",
              "       'reg_prop', 'mul(', 's-', '2', 's_14', ')', 'mul(', 's-', '2',\n",
              "       's_34', ')', 'mul(', '2', 'm2e', ')', 'mul(', '2', 's_13', ')',\n",
              "       ')', 's-', '2', 'add(', 'mul(', 's-', '1', 'm4exs_25', ')', 'mul(',\n",
              "       'm2dxs_13', 's_34', ')', 'mul(', 'm2e', 'add(', 'mul(', 's_12',\n",
              "       's_45', ')', 'mul(', 's_15', 's_24', ')', 'mul(', 's_25', 's_34',\n",
              "       ')', 'mul(', 's-', '1', 's_12', 's_35', ')', 'mul(', 's-', '1',\n",
              "       's_15', 's_23', ')', ')', ')', 'mul(', '2', 'm2d', 'm4e', ')',\n",
              "       'mul(', 'm2d', 'm2e', 'add(', 's_13', 'mul(', 's-', '1', 's_14',\n",
              "       ')', 'mul(', 's-', '2', 's_34', ')', ')', ')', 'mul(', 's-', '1',\n",
              "       's_12', 's_34', 's_35', ')', 'mul(', 's-', '1', 's_15', 's_23',\n",
              "       's_34', ')', ')', ')', '[END]'], dtype='<U8')"
            ]
          },
          "metadata": {},
          "execution_count": 11
        }
      ],
      "source": [
        "np.array(y[0])"
      ]
    },
    {
      "cell_type": "code",
      "execution_count": null,
      "metadata": {
        "id": "ONnK6W_ZAKa-"
      },
      "outputs": [],
      "source": [
        "X_train, X_test, y_train, y_test = train_test_split(\n",
        "    X, y, test_size=0.1, random_state=42\n",
        ")\n",
        "\n",
        "X_val, X_test, y_val, y_test = train_test_split(\n",
        "    X_test, y_test, test_size=0.5, random_state=42\n",
        ")"
      ]
    },
    {
      "cell_type": "code",
      "execution_count": null,
      "metadata": {
        "colab": {
          "base_uri": "https://localhost:8080/",
          "height": 265
        },
        "id": "aEmBdZKHqzaB",
        "outputId": "19b8998c-7f0a-4771-bcae-e356df12441a"
      },
      "outputs": [
        {
          "output_type": "display_data",
          "data": {
            "text/plain": [
              "<Figure size 432x288 with 1 Axes>"
            ],
            "image/png": "[encoded data removed]"
          },
          "metadata": {
            "needs_background": "light"
          }
        }
      ],
      "source": [
        "plt.hist([len(x) for x in y_train], bins=100);"
      ]
    },
    {
      "cell_type": "code",
      "execution_count": null,
      "metadata": {
        "colab": {
          "base_uri": "https://localhost:8080/",
          "height": 265
        },
        "id": "ZTyMaTuF-XjZ",
        "outputId": "c383509e-bb5b-4fe2-c9f9-833910a870ad"
      },
      "outputs": [
        {
          "output_type": "display_data",
          "data": {
            "text/plain": [
              "<Figure size 432x288 with 1 Axes>"
            ],
            "image/png": "[encoded data removed]"
          },
          "metadata": {
            "needs_background": "light"
          }
        }
      ],
      "source": [
        "plt.hist([len(x) for x in X_train], bins=100);"
      ]
    },
    {
      "cell_type": "code",
      "execution_count": null,
      "metadata": {
        "id": "Ypy-MScsG7wK"
      },
      "outputs": [],
      "source": [
        "vocab_size = 500\n",
        "sequence_length = 350\n",
        "batch_size = 64"
      ]
    },
    {
      "cell_type": "markdown",
      "metadata": {
        "id": "c3n2V4xB_PI_"
      },
      "source": [
        "Only use those X,y where both are at most `sequence_length` long."
      ]
    },
    {
      "cell_type": "code",
      "execution_count": null,
      "metadata": {
        "colab": {
          "base_uri": "https://localhost:8080/"
        },
        "id": "5RpEx9LqAKa_",
        "outputId": "a90456c6-f083-48cc-c9d0-cb5efe551b90"
      },
      "outputs": [
        {
          "output_type": "stream",
          "name": "stderr",
          "text": [
            "ic| len(X_train_idx_okay): 109829\n",
            "ic| len(y_train_idx_okay): 107317\n",
            "ic| len(X_val_idx_okay): 6081\n",
            "ic| len(y_val_idx_okay): 5942\n",
            "ic| len(X_test_idx_okay): 6130\n",
            "ic| len(y_test_idx_okay): 5967\n"
          ]
        }
      ],
      "source": [
        "X_train_idx_okay = np.where([len(x) < sequence_length for x in X_train])[0]\n",
        "y_train_idx_okay = np.where([len(y) < sequence_length for y in y_train])[0]\n",
        "X_val_idx_okay = np.where([len(x) < sequence_length for x in X_val])[0]\n",
        "y_val_idx_okay = np.where([len(x) < sequence_length for x in y_val])[0]\n",
        "X_test_idx_okay = np.where([len(x) < sequence_length for x in X_test])[0]\n",
        "y_test_idx_okay = np.where([len(x) < sequence_length for x in y_test])[0]\n",
        "ic(len(X_train_idx_okay));\n",
        "ic(len(y_train_idx_okay));\n",
        "ic(len(X_val_idx_okay));\n",
        "ic(len(y_val_idx_okay));\n",
        "ic(len(X_test_idx_okay));\n",
        "ic(len(y_test_idx_okay));"
      ]
    },
    {
      "cell_type": "code",
      "execution_count": null,
      "metadata": {
        "id": "xKYhhRml-0MT"
      },
      "outputs": [],
      "source": [
        "train_idx_okay = np.intersect1d(X_train_idx_okay, y_train_idx_okay) \n",
        "val_idx_okay = np.intersect1d(X_val_idx_okay, y_val_idx_okay) \n",
        "test_idx_okay = np.intersect1d(X_test_idx_okay, y_test_idx_okay) "
      ]
    },
    {
      "cell_type": "code",
      "execution_count": null,
      "metadata": {
        "id": "cUOZJ8QSAKbA"
      },
      "outputs": [],
      "source": [
        "X_train_short = [X_train[i] for i in train_idx_okay]\n",
        "y_train_short = [y_train[i] for i in train_idx_okay]\n",
        "\n",
        "X_val_short = [X_val[i] for i in val_idx_okay]\n",
        "y_val_short = [y_val[i] for i in val_idx_okay]\n",
        "\n",
        "X_test_short = [X_test[i] for i in test_idx_okay]\n",
        "y_test_short = [y_test[i] for i in test_idx_okay]"
      ]
    },
    {
      "cell_type": "code",
      "execution_count": null,
      "metadata": {
        "id": "K5ZGOW8MpcDA"
      },
      "outputs": [],
      "source": [
        "X_train_text = [\" \".join(x) for x in X_train_short]\n",
        "y_train_text = [\" \".join(yy) for yy in y_train_short]\n",
        "\n",
        "X_val_text = [\" \".join(x) for x in X_val_short]\n",
        "y_val_text = [\" \".join(yy) for yy in y_val_short]\n",
        "\n",
        "X_test_text = [\" \".join(x) for x in X_test_short]\n",
        "y_test_text = [\" \".join(yy) for yy in y_test_short]"
      ]
    },
    {
      "cell_type": "code",
      "execution_count": null,
      "metadata": {
        "colab": {
          "base_uri": "https://localhost:8080/",
          "height": 105
        },
        "id": "3i7G9Xse_oaH",
        "outputId": "33f5e886-8096-4adc-87d7-38cbefc99393"
      },
      "outputs": [
        {
          "output_type": "execute_result",
          "data": {
            "text/plain": [
              "'Prod( 8/27 i Pow e 3 Pow Sum( Pow m_u 2 s_11 Prod 2 s_13 reg_prop ) -1 Pow Sum( Pow m_u 2 s_11 Prod 2 s_12 Prod 2 s_13 Prod 2 s_23 reg_prop ) -1 Sum( Prod( p_1 alpha_18 gamma alpha_17 alpha_0 alpha_9 gamma alpha_17 alpha_2 alpha_13 gamma alpha_18 alpha_9 alpha_10 gamma alpha_16 alpha_10 alpha_1 A^(*) i_2 alpha_16 (p_5) u i_0 alpha_13 (p_1)_u u^(*) i_3 alpha_0 (p_2)_v u^(*) i_4 alpha_2 (p_3)_v u i_1 alpha_1 (p_4)_v ) Prod( 2 p_2 alpha_17 gamma alpha_17 alpha_3 alpha_14 gamma alpha_16 alpha_4 alpha_5 A^(*) i_2 alpha_16 (p_5) u i_0 alpha_14 (p_1)_u u^(*) i_3 alpha_4 (p_2)_v u^(*) i_4 alpha_3 (p_3)_v u i_1 alpha_5 (p_4)_v ) Prod( p_3 alpha_18 gamma alpha_17 alpha_6 alpha_11 gamma alpha_17 alpha_8 alpha_15 gamma alpha_18 alpha_11 alpha_12 gamma alpha_16 alpha_12 alpha_7 A^(*) i_2 alpha_16 (p_5) u i_0 alpha_15 (p_1)_u u^(*) i_3 alpha_6 (p_2)_v u^(*) i_4 alpha_8 (p_3)_v u i_1 alpha_7 (p_4)_v ) ) )'"
            ],
            "application/vnd.google.colaboratory.intrinsic+json": {
              "type": "string"
            }
          },
          "metadata": {},
          "execution_count": 20
        }
      ],
      "source": [
        "X_train_text[0]"
      ]
    },
    {
      "cell_type": "code",
      "execution_count": null,
      "metadata": {
        "colab": {
          "base_uri": "https://localhost:8080/",
          "height": 105
        },
        "id": "KWIuj9SC_qRb",
        "outputId": "7aea6950-798a-427a-d6c5-d8f74ddd9044"
      },
      "outputs": [
        {
          "output_type": "execute_result",
          "data": {
            "text/plain": [
              "'[START] mul( mul 512 pow 729 s- 1 pow e 6 pow add( m2u reg_prop s_11 mul( 2 s_13 ) ) s- 2 pow add( m2u reg_prop s_11 mul( 2 s_12 ) mul( 2 s_13 ) mul( 2 s_23 ) ) s- 2 add( mul( 8 m6u ) mul( m2u add( mul( 4 pow s_13 2 ) mul( s_14 s_23 ) mul( s- 1 s_11 s_24 ) mul( s- 8 s_12 s_23 ) mul( s- 4 s_11 s_23 ) mul( s- 4 s_13 s_24 ) mul( s- 2 s_13 s_14 ) mul( s- 2 s_13 s_34 ) mul( 2 s_11 s_13 ) mul( 2 s_12 s_24 ) mul( 2 s_23 s_34 ) mul( 3 s_12 s_34 ) mul( 4 s_12 s_14 ) ) ) mul( m4u add( mul( s- 3 s_24 ) mul( s- 2 s_14 ) mul( s- 2 s_34 ) mul( 4 s_11 ) mul( 4 s_23 ) mul( 14 s_13 ) ) ) mul( s- 2 s_14 pow s_23 2 ) mul( s- 2 s_34 pow s_12 2 ) mul( s_11 s_14 s_23 ) mul( s- 1 s_11 s_12 s_34 ) mul( 2 s_11 s_23 s_24 ) mul( 2 s_11 s_23 s_34 ) mul( 2 s_12 s_13 s_14 ) mul( 2 s_12 s_13 s_24 ) mul( 2 s_12 s_14 s_23 ) mul( 2 s_12 s_23 s_34 ) mul( 2 s_13 s_23 s_24 ) mul( 2 s_13 s_23 s_34 ) mul( 4 s_12 s_23 s_24 ) ) ) [END]'"
            ],
            "application/vnd.google.colaboratory.intrinsic+json": {
              "type": "string"
            }
          },
          "metadata": {},
          "execution_count": 21
        }
      ],
      "source": [
        "y_train_text[0]"
      ]
    },
    {
      "cell_type": "markdown",
      "metadata": {
        "id": "67LPkkzBG7wL"
      },
      "source": [
        "# Vectorization"
      ]
    },
    {
      "cell_type": "code",
      "execution_count": null,
      "metadata": {
        "id": "-GymC40wG7wL"
      },
      "outputs": [],
      "source": [
        "def custom_standardization(input_string):\n",
        "    return input_string"
      ]
    },
    {
      "cell_type": "code",
      "execution_count": null,
      "metadata": {
        "id": "4YRGYlOCG7wM"
      },
      "outputs": [],
      "source": [
        "X_vectorization = TextVectorization(\n",
        "    max_tokens=vocab_size,\n",
        "    output_mode=\"int\",\n",
        "    output_sequence_length=sequence_length,\n",
        "    standardize=None,\n",
        ")\n",
        "\n",
        "y_vectorization = TextVectorization(\n",
        "    max_tokens=vocab_size,\n",
        "    output_mode=\"int\",\n",
        "    output_sequence_length=sequence_length+1,\n",
        "    standardize=None,\n",
        ")"
      ]
    },
    {
      "cell_type": "code",
      "execution_count": null,
      "metadata": {
        "id": "1Y39nrKMG7wM"
      },
      "outputs": [],
      "source": [
        "X_vectorization.adapt(X_train_text)\n",
        "y_vectorization.adapt(y_train_text)"
      ]
    },
    {
      "cell_type": "code",
      "execution_count": null,
      "metadata": {
        "colab": {
          "base_uri": "https://localhost:8080/"
        },
        "id": "wjHV7D5cG7wM",
        "outputId": "3a9fa93a-5994-4dd1-c1be-3d522a89453b"
      },
      "outputs": [
        {
          "output_type": "execute_result",
          "data": {
            "text/plain": [
              "<tf.Tensor: shape=(350,), dtype=int64, numpy=\n",
              "array([  6, 127,  51,   5,  52,  53,   5,  17,   5, 106,  16,  87,   4,\n",
              "        16,  62,  32,   3,   7,   5,  17,   5, 106,  16,  87,   4,  16,\n",
              "        84,   4,  16,  62,   4,  16,  86,  32,   3,   7,  17,   6,  59,\n",
              "        15,   2,   8,  23,  25,   2,   8,  21,  34,   2,  15,  25,  18,\n",
              "         2,  14,  18,  22,  42,  11,  14,  38,  75,  13,  34,  33,  74,\n",
              "        10,  23,  45,  74,   9,  21,  55,  75,  12,  22,  43,   3,   6,\n",
              "        16,  61,   8,   2,   8,  26,  40,   2,  14,  28,  31,  42,  11,\n",
              "        14,  38,  75,  13,  40,  33,  74,  10,  28,  45,  74,   9,  26,\n",
              "        55,  75,  12,  31,  43,   3,   6,  60,  15,   2,   8,  30,  20,\n",
              "         2,   8,  27,  39,   2,  15,  20,  24,   2,  14,  24,  29,  42,\n",
              "        11,  14,  38,  75,  13,  39,  33,  74,  10,  30,  45,  74,   9,\n",
              "        27,  55,  75,  12,  29,  43,   3,   3,   3,   0,   0,   0,   0,\n",
              "         0,   0,   0,   0,   0,   0,   0,   0,   0,   0,   0,   0,   0,\n",
              "         0,   0,   0,   0,   0,   0,   0,   0,   0,   0,   0,   0,   0,\n",
              "         0,   0,   0,   0,   0,   0,   0,   0,   0,   0,   0,   0,   0,\n",
              "         0,   0,   0,   0,   0,   0,   0,   0,   0,   0,   0,   0,   0,\n",
              "         0,   0,   0,   0,   0,   0,   0,   0,   0,   0,   0,   0,   0,\n",
              "         0,   0,   0,   0,   0,   0,   0,   0,   0,   0,   0,   0,   0,\n",
              "         0,   0,   0,   0,   0,   0,   0,   0,   0,   0,   0,   0,   0,\n",
              "         0,   0,   0,   0,   0,   0,   0,   0,   0,   0,   0,   0,   0,\n",
              "         0,   0,   0,   0,   0,   0,   0,   0,   0,   0,   0,   0,   0,\n",
              "         0,   0,   0,   0,   0,   0,   0,   0,   0,   0,   0,   0,   0,\n",
              "         0,   0,   0,   0,   0,   0,   0,   0,   0,   0,   0,   0,   0,\n",
              "         0,   0,   0,   0,   0,   0,   0,   0,   0,   0,   0,   0,   0,\n",
              "         0,   0,   0,   0,   0,   0,   0,   0,   0,   0,   0,   0,   0,\n",
              "         0,   0,   0,   0,   0,   0,   0,   0,   0,   0,   0,   0,   0,\n",
              "         0,   0,   0,   0,   0,   0,   0,   0,   0,   0,   0,   0])>"
            ]
          },
          "metadata": {},
          "execution_count": 25
        }
      ],
      "source": [
        "X_vectorization(X_train_text[0])"
      ]
    },
    {
      "cell_type": "code",
      "execution_count": null,
      "metadata": {
        "id": "C6Ty9AEcG7wM"
      },
      "outputs": [],
      "source": [
        "def format_dataset(X, y):\n",
        "    X_vec = X_vectorization(X)\n",
        "    y_vec = y_vectorization(y)\n",
        "    return (\n",
        "        {\n",
        "            \"encoder_inputs\": X_vec,\n",
        "            \"decoder_inputs\": y_vec[:, :-1],\n",
        "        },\n",
        "        y_vec[:, 1:],\n",
        "    )\n",
        "\n",
        "\n",
        "def make_dataset(X_text, y_text):\n",
        "    dataset = tf.data.Dataset.from_tensor_slices((X_text, y_text))\n",
        "    dataset = dataset.batch(batch_size)\n",
        "    dataset = dataset.map(format_dataset)\n",
        "    return dataset.shuffle(2048).prefetch(16).cache()\n",
        "\n",
        "\n",
        "train_ds = make_dataset(X_train_text, y_train_text)\n",
        "val_ds = make_dataset(X_val_text, y_val_text)\n",
        "test_ds = make_dataset(X_test_text, y_test_text)\n"
      ]
    },
    {
      "cell_type": "code",
      "execution_count": null,
      "metadata": {
        "colab": {
          "base_uri": "https://localhost:8080/"
        },
        "id": "6ZhzzkMYG7wM",
        "outputId": "6ab848cb-a9d2-4057-bbde-33fdf1461a49"
      },
      "outputs": [
        {
          "output_type": "stream",
          "name": "stdout",
          "text": [
            "inputs[\"encoder_inputs\"].shape: (64, 350)\n",
            "inputs[\"decoder_inputs\"].shape: (64, 350)\n",
            "targets.shape: (64, 350)\n"
          ]
        }
      ],
      "source": [
        "for inputs, targets in train_ds.take(1):\n",
        "    print(f'inputs[\"encoder_inputs\"].shape: {inputs[\"encoder_inputs\"].shape}')\n",
        "    print(f'inputs[\"decoder_inputs\"].shape: {inputs[\"decoder_inputs\"].shape}')\n",
        "    print(f\"targets.shape: {targets.shape}\")\n"
      ]
    },
    {
      "cell_type": "code",
      "execution_count": null,
      "metadata": {
        "colab": {
          "base_uri": "https://localhost:8080/"
        },
        "id": "0KeStInTiRqE",
        "outputId": "c4a0f523-a2da-4e76-e038-23a5ec12d76e"
      },
      "outputs": [
        {
          "output_type": "stream",
          "name": "stdout",
          "text": [
            "{'encoder_inputs': <tf.Tensor: shape=(64, 350), dtype=int64, numpy=\n",
            "array([[  6, 129,  51, ...,   0,   0,   0],\n",
            "       [  6, 128,  51, ...,   0,   0,   0],\n",
            "       [  6, 128,  51, ...,   0,   0,   0],\n",
            "       ...,\n",
            "       [  6, 128,  51, ...,   0,   0,   0],\n",
            "       [  6, 127,  51, ...,   0,   0,   0],\n",
            "       [  6, 129,  51, ...,   0,   0,   0]])>, 'decoder_inputs': <tf.Tensor: shape=(64, 350), dtype=int64, numpy=\n",
            "array([[29,  3, 31, ...,  0,  0,  0],\n",
            "       [29,  3, 31, ...,  0,  0,  0],\n",
            "       [29,  3, 31, ...,  0,  0,  0],\n",
            "       ...,\n",
            "       [29,  3, 31, ...,  0,  0,  0],\n",
            "       [29,  3, 31, ...,  0,  0,  0],\n",
            "       [29,  3, 31, ...,  0,  0,  0]])>}\n",
            "tf.Tensor(\n",
            "[[ 3 31 63 ...  0  0  0]\n",
            " [ 3 31  5 ...  0  0  0]\n",
            " [ 3 31  5 ...  0  0  0]\n",
            " ...\n",
            " [ 3 31  5 ...  0  0  0]\n",
            " [ 3 31  5 ...  0  0  0]\n",
            " [ 3 31 61 ...  0  0  0]], shape=(64, 350), dtype=int64)\n"
          ]
        }
      ],
      "source": [
        "for inputs, targets in train_ds.take(1):\n",
        "    print(inputs)\n",
        "    print(targets)"
      ]
    },
    {
      "cell_type": "code",
      "execution_count": null,
      "metadata": {
        "id": "-SO-LRr9G7wN"
      },
      "outputs": [],
      "source": [
        "class TransformerEncoder(layers.Layer):\n",
        "    def __init__(self, embed_dim, dense_dim, num_heads, **kwargs):\n",
        "        super(TransformerEncoder, self).__init__(**kwargs)\n",
        "        self.embed_dim = embed_dim\n",
        "        self.dense_dim = dense_dim\n",
        "        self.num_heads = num_heads\n",
        "        self.attention = layers.MultiHeadAttention(\n",
        "            num_heads=num_heads, key_dim=embed_dim\n",
        "        )\n",
        "        self.dense_proj = keras.Sequential(\n",
        "            [\n",
        "                layers.Dense(dense_dim, activation=\"relu\"),\n",
        "                layers.Dense(embed_dim),\n",
        "            ]\n",
        "        )\n",
        "        self.layernorm_1 = layers.LayerNormalization()\n",
        "        self.layernorm_2 = layers.LayerNormalization()\n",
        "        self.supports_masking = True\n",
        "\n",
        "    def call(self, inputs, mask=None):\n",
        "        if mask is not None:\n",
        "            padding_mask = tf.cast(mask[:, tf.newaxis, tf.newaxis, :], dtype=\"int32\")\n",
        "        attention_output = self.attention(\n",
        "            query=inputs, value=inputs, key=inputs, attention_mask=padding_mask\n",
        "        )\n",
        "        proj_input = self.layernorm_1(inputs + attention_output)\n",
        "        proj_output = self.dense_proj(proj_input)\n",
        "        return self.layernorm_2(proj_input + proj_output)\n",
        "\n",
        "\n",
        "class PositionalEmbedding(layers.Layer):\n",
        "    def __init__(self, sequence_length, vocab_size, embed_dim, **kwargs):\n",
        "        super(PositionalEmbedding, self).__init__(**kwargs)\n",
        "        self.token_embeddings = layers.Embedding(\n",
        "            input_dim=vocab_size, output_dim=embed_dim\n",
        "        )\n",
        "        self.position_embeddings = layers.Embedding(\n",
        "            input_dim=sequence_length, output_dim=embed_dim\n",
        "        )\n",
        "        self.sequence_length = sequence_length\n",
        "        self.vocab_size = vocab_size\n",
        "        self.embed_dim = embed_dim\n",
        "\n",
        "    def call(self, inputs):\n",
        "        length = tf.shape(inputs)[-1]\n",
        "        positions = tf.range(start=0, limit=length, delta=1)\n",
        "        embedded_tokens = self.token_embeddings(inputs)\n",
        "        embedded_positions = self.position_embeddings(positions)\n",
        "        return embedded_tokens + embedded_positions\n",
        "\n",
        "    def compute_mask(self, inputs, mask=None):\n",
        "        return tf.math.not_equal(inputs, 0)\n",
        "\n",
        "\n",
        "class TransformerDecoder(layers.Layer):\n",
        "    def __init__(self, embed_dim, latent_dim, num_heads, **kwargs):\n",
        "        super(TransformerDecoder, self).__init__(**kwargs)\n",
        "        self.embed_dim = embed_dim\n",
        "        self.latent_dim = latent_dim\n",
        "        self.num_heads = num_heads\n",
        "        self.attention_1 = layers.MultiHeadAttention(\n",
        "            num_heads=num_heads, key_dim=embed_dim\n",
        "        )\n",
        "        self.attention_2 = layers.MultiHeadAttention(\n",
        "            num_heads=num_heads, key_dim=embed_dim\n",
        "        )\n",
        "        self.dense_proj = keras.Sequential(\n",
        "            [\n",
        "                layers.Dense(latent_dim, activation=\"relu\"),\n",
        "                layers.Dense(embed_dim),\n",
        "            ]\n",
        "        )\n",
        "        self.layernorm_1 = layers.LayerNormalization()\n",
        "        self.layernorm_2 = layers.LayerNormalization()\n",
        "        self.layernorm_3 = layers.LayerNormalization()\n",
        "        self.supports_masking = True\n",
        "\n",
        "    def call(self, inputs, encoder_outputs, mask=None):\n",
        "        causal_mask = self.get_causal_attention_mask(inputs)\n",
        "        if mask is not None:\n",
        "            padding_mask = tf.cast(mask[:, tf.newaxis, :], dtype=\"int32\")\n",
        "            padding_mask = tf.minimum(padding_mask, causal_mask)\n",
        "\n",
        "        attention_output_1 = self.attention_1(\n",
        "            query=inputs, value=inputs, key=inputs, attention_mask=causal_mask\n",
        "        )\n",
        "        out_1 = self.layernorm_1(inputs + attention_output_1)\n",
        "\n",
        "        attention_output_2 = self.attention_2(\n",
        "            query=out_1,\n",
        "            value=encoder_outputs,\n",
        "            key=encoder_outputs,\n",
        "            attention_mask=padding_mask,\n",
        "        )\n",
        "        out_2 = self.layernorm_2(out_1 + attention_output_2)\n",
        "\n",
        "        proj_output = self.dense_proj(out_2)\n",
        "        return self.layernorm_3(out_2 + proj_output)\n",
        "\n",
        "    def get_causal_attention_mask(self, inputs):\n",
        "        input_shape = tf.shape(inputs)\n",
        "        batch_size, sequence_length = input_shape[0], input_shape[1]\n",
        "        i = tf.range(sequence_length)[:, tf.newaxis]\n",
        "        j = tf.range(sequence_length)\n",
        "        mask = tf.cast(i >= j, dtype=\"int32\")\n",
        "        mask = tf.reshape(mask, (1, input_shape[1], input_shape[1]))\n",
        "        mult = tf.concat(\n",
        "            [tf.expand_dims(batch_size, -1), tf.constant([1, 1], dtype=tf.int32)],\n",
        "            axis=0,\n",
        "        )\n",
        "        return tf.tile(mask, mult)\n"
      ]
    },
    {
      "cell_type": "code",
      "execution_count": null,
      "metadata": {
        "colab": {
          "base_uri": "https://localhost:8080/"
        },
        "id": "6GRVCK_pG7wN",
        "outputId": "1070b2e8-9bc7-4514-dc04-2a3eefc7e3fe"
      },
      "outputs": [
        {
          "output_type": "stream",
          "name": "stdout",
          "text": [
            "Model: \"transformer\"\n",
            "__________________________________________________________________________________________________\n",
            " Layer (type)                   Output Shape         Param #     Connected to                     \n",
            "==================================================================================================\n",
            " encoder_inputs (InputLayer)    [(None, None)]       0           []                               \n",
            "                                                                                                  \n",
            " positional_embedding (Position  (None, None, 256)   217600      ['encoder_inputs[0][0]']         \n",
            " alEmbedding)                                                                                     \n",
            "                                                                                                  \n",
            " decoder_inputs (InputLayer)    [(None, None)]       0           []                               \n",
            "                                                                                                  \n",
            " transformer_encoder (Transform  (None, None, 256)   3155456     ['positional_embedding[0][0]']   \n",
            " erEncoder)                                                                                       \n",
            "                                                                                                  \n",
            " model_1 (Functional)           (None, None, 500)    5605620     ['decoder_inputs[0][0]',         \n",
            "                                                                  'transformer_encoder[0][0]']    \n",
            "                                                                                                  \n",
            "==================================================================================================\n",
            "Total params: 8,978,676\n",
            "Trainable params: 8,978,676\n",
            "Non-trainable params: 0\n",
            "__________________________________________________________________________________________________\n"
          ]
        }
      ],
      "source": [
        "embed_dim = 256  # 512\n",
        "latent_dim = 2048  # 16384\n",
        "num_heads = 8\n",
        "\n",
        "# with tpu_strategy.scope(): # creating the model in the TPUStrategy scope means we will train the model on the TPU\n",
        "encoder_inputs = keras.Input(shape=(None,), dtype=\"int32\", name=\"encoder_inputs\")\n",
        "x = PositionalEmbedding(sequence_length, vocab_size, embed_dim)(encoder_inputs)\n",
        "encoder_outputs = TransformerEncoder(embed_dim, latent_dim, num_heads)(x)\n",
        "encoder = keras.Model(encoder_inputs, encoder_outputs)\n",
        "\n",
        "decoder_inputs = keras.Input(shape=(None,), dtype=\"int32\", name=\"decoder_inputs\")\n",
        "encoded_seq_inputs = keras.Input(shape=(None, embed_dim), name=\"decoder_state_inputs\")\n",
        "x = PositionalEmbedding(sequence_length, vocab_size, embed_dim)(decoder_inputs)\n",
        "x = TransformerDecoder(embed_dim, latent_dim, num_heads)(x, encoded_seq_inputs)\n",
        "x = layers.Dropout(0.5)(x)\n",
        "decoder_outputs = layers.Dense(vocab_size, activation=\"softmax\")(x)\n",
        "decoder = keras.Model([decoder_inputs, encoded_seq_inputs], decoder_outputs)\n",
        "\n",
        "decoder_outputs = decoder([decoder_inputs, encoder_outputs])\n",
        "transformer = keras.Model(\n",
        "    [encoder_inputs, decoder_inputs], decoder_outputs, name=\"transformer\"\n",
        ")\n",
        "transformer.summary()\n"
      ]
    },
    {
      "cell_type": "code",
      "execution_count": null,
      "metadata": {
        "id": "k-obJqFjAR8r"
      },
      "outputs": [],
      "source": [
        "def learning_rate_cyclic(epoch):\n",
        "    initial_lr = 0.0005\n",
        "    max_lr = 0.004\n",
        "    max_epochs = 40\n",
        "    if epoch <= (max_epochs / 2):\n",
        "        lr = initial_lr + (max_lr-initial_lr) * epoch/(max_epochs/2)\n",
        "        return lr\n",
        "    if (epoch > (max_epochs / 2)) & (epoch < max_epochs):\n",
        "        lr = max_lr - (max_lr-initial_lr) * (epoch-max_epochs/2)/(max_epochs/2)\n",
        "        return lr\n",
        "    else:\n",
        "        lr = initial_lr*np.exp(-(epoch-max_epochs)/10)\n",
        "        return lr"
      ]
    },
    {
      "cell_type": "code",
      "execution_count": null,
      "metadata": {
        "colab": {
          "base_uri": "https://localhost:8080/",
          "height": 296
        },
        "id": "WCjx5RsVA_tg",
        "outputId": "487d96ed-65da-43f8-fade-2580444bf191"
      },
      "outputs": [
        {
          "output_type": "execute_result",
          "data": {
            "text/plain": [
              "Text(0, 0.5, 'learning rate')"
            ]
          },
          "metadata": {},
          "execution_count": 55
        },
        {
          "output_type": "display_data",
          "data": {
            "text/plain": [
              "<Figure size 432x288 with 1 Axes>"
            ],
            "image/png": "[encoded data removed]"
          },
          "metadata": {
            "needs_background": "light"
          }
        }
      ],
      "source": [
        "xrange = range(0,50)\n",
        "yrange = [learning_rate_cyclic(x) for x in xrange]\n",
        "plt.plot(xrange, yrange)\n",
        "plt.xlabel(\"epoch\")\n",
        "plt.ylabel(\"learning rate\")"
      ]
    },
    {
      "cell_type": "code",
      "execution_count": null,
      "metadata": {
        "colab": {
          "base_uri": "https://localhost:8080/"
        },
        "id": "N_rqsZ1PG7wN",
        "outputId": "238661fa-d9fd-4253-8d93-2af10294fa1f"
      },
      "outputs": [
        {
          "output_type": "stream",
          "name": "stdout",
          "text": [
            "Model: \"transformer\"\n",
            "__________________________________________________________________________________________________\n",
            " Layer (type)                   Output Shape         Param #     Connected to                     \n",
            "==================================================================================================\n",
            " encoder_inputs (InputLayer)    [(None, None)]       0           []                               \n",
            "                                                                                                  \n",
            " positional_embedding (Position  (None, None, 256)   217600      ['encoder_inputs[0][0]']         \n",
            " alEmbedding)                                                                                     \n",
            "                                                                                                  \n",
            " decoder_inputs (InputLayer)    [(None, None)]       0           []                               \n",
            "                                                                                                  \n",
            " transformer_encoder (Transform  (None, None, 256)   3155456     ['positional_embedding[0][0]']   \n",
            " erEncoder)                                                                                       \n",
            "                                                                                                  \n",
            " model_1 (Functional)           (None, None, 500)    5605620     ['decoder_inputs[0][0]',         \n",
            "                                                                  'transformer_encoder[0][0]']    \n",
            "                                                                                                  \n",
            "==================================================================================================\n",
            "Total params: 8,978,676\n",
            "Trainable params: 8,978,676\n",
            "Non-trainable params: 0\n",
            "__________________________________________________________________________________________________\n",
            "Epoch 1/50\n",
            "1613/1613 [==============================] - 372s 224ms/step - loss: 0.5466 - accuracy: 0.7383 - val_loss: 0.2512 - val_accuracy: 0.8670 - lr: 5.0000e-04\n",
            "Epoch 2/50\n",
            "1613/1613 [==============================] - 354s 220ms/step - loss: 0.2258 - accuracy: 0.8840 - val_loss: 0.1361 - val_accuracy: 0.9291 - lr: 6.7500e-04\n",
            "Epoch 3/50\n",
            "1613/1613 [==============================] - 355s 220ms/step - loss: 0.6561 - accuracy: 0.6953 - val_loss: 0.2245 - val_accuracy: 0.8827 - lr: 8.5000e-04\n",
            "Epoch 4/50\n",
            "1613/1613 [==============================] - 354s 220ms/step - loss: 0.1823 - accuracy: 0.9063 - val_loss: 0.0796 - val_accuracy: 0.9591 - lr: 0.0010\n",
            "Epoch 5/50\n",
            "1613/1613 [==============================] - 355s 220ms/step - loss: 0.0849 - accuracy: 0.9577 - val_loss: 0.0424 - val_accuracy: 0.9786 - lr: 0.0012\n",
            "Epoch 6/50\n",
            "1613/1613 [==============================] - 356s 220ms/step - loss: 0.4831 - accuracy: 0.7793 - val_loss: 0.2667 - val_accuracy: 0.8615 - lr: 0.0014\n",
            "Epoch 7/50\n",
            "1613/1613 [==============================] - 354s 220ms/step - loss: 0.1491 - accuracy: 0.9247 - val_loss: 0.0650 - val_accuracy: 0.9671 - lr: 0.0016\n",
            "Epoch 8/50\n",
            "1613/1613 [==============================] - 356s 221ms/step - loss: 0.0568 - accuracy: 0.9719 - val_loss: 0.0349 - val_accuracy: 0.9826 - lr: 0.0017\n",
            "Epoch 9/50\n",
            "1613/1613 [==============================] - 356s 221ms/step - loss: 0.0338 - accuracy: 0.9835 - val_loss: 0.0240 - val_accuracy: 0.9882 - lr: 0.0019\n",
            "Epoch 10/50\n",
            "1613/1613 [==============================] - 355s 220ms/step - loss: 0.0243 - accuracy: 0.9883 - val_loss: 0.0159 - val_accuracy: 0.9922 - lr: 0.0021\n",
            "Epoch 11/50\n",
            "1613/1613 [==============================] - 355s 220ms/step - loss: 0.0193 - accuracy: 0.9907 - val_loss: 0.0123 - val_accuracy: 0.9941 - lr: 0.0022\n",
            "Epoch 12/50\n",
            "1613/1613 [==============================] - 355s 220ms/step - loss: 0.0160 - accuracy: 0.9924 - val_loss: 0.0113 - val_accuracy: 0.9946 - lr: 0.0024\n",
            "Epoch 13/50\n",
            "1613/1613 [==============================] - 355s 220ms/step - loss: 0.0136 - accuracy: 0.9936 - val_loss: 0.0103 - val_accuracy: 0.9951 - lr: 0.0026\n",
            "Epoch 14/50\n",
            "1613/1613 [==============================] - 355s 220ms/step - loss: 0.0121 - accuracy: 0.9943 - val_loss: 0.0088 - val_accuracy: 0.9957 - lr: 0.0028\n",
            "Epoch 15/50\n",
            "1613/1613 [==============================] - 355s 220ms/step - loss: 0.0109 - accuracy: 0.9949 - val_loss: 0.0078 - val_accuracy: 0.9963 - lr: 0.0030\n",
            "Epoch 16/50\n",
            "1613/1613 [==============================] - 355s 220ms/step - loss: 0.0101 - accuracy: 0.9953 - val_loss: 0.0072 - val_accuracy: 0.9966 - lr: 0.0031\n",
            "Epoch 17/50\n",
            "1613/1613 [==============================] - 355s 220ms/step - loss: 0.0094 - accuracy: 0.9956 - val_loss: 0.0067 - val_accuracy: 0.9968 - lr: 0.0033\n",
            "Epoch 18/50\n",
            "1613/1613 [==============================] - 355s 220ms/step - loss: 0.0089 - accuracy: 0.9958 - val_loss: 0.0067 - val_accuracy: 0.9968 - lr: 0.0035\n",
            "Epoch 19/50\n",
            "1613/1613 [==============================] - 355s 220ms/step - loss: 0.0087 - accuracy: 0.9960 - val_loss: 0.0070 - val_accuracy: 0.9966 - lr: 0.0037\n",
            "Epoch 20/50\n",
            "1613/1613 [==============================] - 355s 220ms/step - loss: 0.0084 - accuracy: 0.9961 - val_loss: 0.0057 - val_accuracy: 0.9972 - lr: 0.0038\n",
            "Epoch 21/50\n",
            "1613/1613 [==============================] - 355s 220ms/step - loss: 0.0084 - accuracy: 0.9961 - val_loss: 0.0057 - val_accuracy: 0.9973 - lr: 0.0040\n",
            "Epoch 22/50\n",
            "1613/1613 [==============================] - 355s 220ms/step - loss: 0.0070 - accuracy: 0.9968 - val_loss: 0.0050 - val_accuracy: 0.9976 - lr: 0.0038\n",
            "Epoch 23/50\n",
            "1613/1613 [==============================] - 355s 220ms/step - loss: 0.0059 - accuracy: 0.9973 - val_loss: 0.0047 - val_accuracy: 0.9977 - lr: 0.0037\n",
            "Epoch 24/50\n",
            "1613/1613 [==============================] - 356s 220ms/step - loss: 0.0055 - accuracy: 0.9975 - val_loss: 0.0044 - val_accuracy: 0.9979 - lr: 0.0035\n",
            "Epoch 25/50\n",
            "1613/1613 [==============================] - 356s 221ms/step - loss: 0.0047 - accuracy: 0.9978 - val_loss: 0.0039 - val_accuracy: 0.9981 - lr: 0.0033\n",
            "Epoch 26/50\n",
            "1613/1613 [==============================] - 355s 220ms/step - loss: 0.0042 - accuracy: 0.9981 - val_loss: 0.0029 - val_accuracy: 0.9986 - lr: 0.0031\n",
            "Epoch 27/50\n",
            "1613/1613 [==============================] - 355s 220ms/step - loss: 0.0035 - accuracy: 0.9984 - val_loss: 0.0026 - val_accuracy: 0.9988 - lr: 0.0030\n",
            "Epoch 28/50\n",
            "1613/1613 [==============================] - 355s 220ms/step - loss: 0.0032 - accuracy: 0.9985 - val_loss: 0.0027 - val_accuracy: 0.9987 - lr: 0.0028\n",
            "Epoch 29/50\n",
            "1613/1613 [==============================] - 355s 220ms/step - loss: 0.0028 - accuracy: 0.9987 - val_loss: 0.0024 - val_accuracy: 0.9988 - lr: 0.0026\n",
            "Epoch 30/50\n",
            "1613/1613 [==============================] - 355s 220ms/step - loss: 0.0023 - accuracy: 0.9989 - val_loss: 0.0017 - val_accuracy: 0.9992 - lr: 0.0024\n",
            "Epoch 31/50\n",
            "1613/1613 [==============================] - 355s 220ms/step - loss: 0.0021 - accuracy: 0.9990 - val_loss: 0.0017 - val_accuracy: 0.9992 - lr: 0.0022\n",
            "Epoch 32/50\n",
            "1613/1613 [==============================] - 355s 220ms/step - loss: 0.0018 - accuracy: 0.9991 - val_loss: 0.0014 - val_accuracy: 0.9993 - lr: 0.0021\n",
            "Epoch 33/50\n",
            "1613/1613 [==============================] - 355s 220ms/step - loss: 0.0015 - accuracy: 0.9993 - val_loss: 0.0014 - val_accuracy: 0.9993 - lr: 0.0019\n",
            "Epoch 34/50\n",
            "1613/1613 [==============================] - 354s 220ms/step - loss: 0.0013 - accuracy: 0.9994 - val_loss: 0.0013 - val_accuracy: 0.9994 - lr: 0.0017\n",
            "Epoch 35/50\n",
            "1613/1613 [==============================] - 355s 220ms/step - loss: 0.0011 - accuracy: 0.9995 - val_loss: 9.4241e-04 - val_accuracy: 0.9995 - lr: 0.0016\n",
            "Epoch 36/50\n",
            "1613/1613 [==============================] - 355s 220ms/step - loss: 8.9181e-04 - accuracy: 0.9995 - val_loss: 9.0905e-04 - val_accuracy: 0.9995 - lr: 0.0014\n",
            "Epoch 37/50\n",
            "1613/1613 [==============================] - 355s 220ms/step - loss: 6.9023e-04 - accuracy: 0.9996 - val_loss: 5.8998e-04 - val_accuracy: 0.9997 - lr: 0.0012\n",
            "Epoch 38/50\n",
            "1613/1613 [==============================] - 354s 220ms/step - loss: 5.7564e-04 - accuracy: 0.9997 - val_loss: 5.2650e-04 - val_accuracy: 0.9997 - lr: 0.0010\n",
            "Epoch 39/50\n",
            "1613/1613 [==============================] - 354s 220ms/step - loss: 4.1346e-04 - accuracy: 0.9998 - val_loss: 5.0652e-04 - val_accuracy: 0.9997 - lr: 8.5000e-04\n",
            "Epoch 40/50\n",
            "1613/1613 [==============================] - 355s 220ms/step - loss: 3.4312e-04 - accuracy: 0.9998 - val_loss: 3.9188e-04 - val_accuracy: 0.9997 - lr: 6.7500e-04\n",
            "Epoch 41/50\n",
            "1613/1613 [==============================] - 355s 220ms/step - loss: 2.4981e-04 - accuracy: 0.9998 - val_loss: 3.6487e-04 - val_accuracy: 0.9998 - lr: 5.0000e-04\n",
            "Epoch 42/50\n",
            "1613/1613 [==============================] - 355s 220ms/step - loss: 2.5657e-04 - accuracy: 0.9998 - val_loss: 2.9393e-04 - val_accuracy: 0.9998 - lr: 4.5242e-04\n",
            "Epoch 43/50\n",
            "1613/1613 [==============================] - 356s 221ms/step - loss: 2.3729e-04 - accuracy: 0.9998 - val_loss: 3.0118e-04 - val_accuracy: 0.9998 - lr: 4.0937e-04\n",
            "Epoch 44/50\n",
            "1613/1613 [==============================] - 355s 220ms/step - loss: 2.1980e-04 - accuracy: 0.9998 - val_loss: 2.9040e-04 - val_accuracy: 0.9998 - lr: 3.7041e-04\n",
            "Epoch 45/50\n",
            "1613/1613 [==============================] - 356s 220ms/step - loss: 2.0696e-04 - accuracy: 0.9998 - val_loss: 2.8613e-04 - val_accuracy: 0.9998 - lr: 3.3516e-04\n",
            "Epoch 46/50\n",
            "1613/1613 [==============================] - 356s 221ms/step - loss: 1.9708e-04 - accuracy: 0.9998 - val_loss: 2.9219e-04 - val_accuracy: 0.9998 - lr: 3.0327e-04\n",
            "Epoch 47/50\n",
            "1613/1613 [==============================] - 356s 220ms/step - loss: 1.8927e-04 - accuracy: 0.9998 - val_loss: 2.8104e-04 - val_accuracy: 0.9998 - lr: 2.7441e-04\n",
            "Epoch 48/50\n",
            "1613/1613 [==============================] - 356s 220ms/step - loss: 1.8349e-04 - accuracy: 0.9998 - val_loss: 2.5714e-04 - val_accuracy: 0.9998 - lr: 2.4829e-04\n",
            "Epoch 49/50\n",
            "1613/1613 [==============================] - 355s 220ms/step - loss: 1.7614e-04 - accuracy: 0.9998 - val_loss: 2.6324e-04 - val_accuracy: 0.9998 - lr: 2.2466e-04\n",
            "Epoch 50/50\n",
            "1613/1613 [==============================] - 356s 221ms/step - loss: 1.7589e-04 - accuracy: 0.9998 - val_loss: 2.5474e-04 - val_accuracy: 0.9998 - lr: 2.0328e-04\n"
          ]
        }
      ],
      "source": [
        "epochs = 50  # This should be at least 30 for convergence\n",
        "lr_schedule = tf.keras.callbacks.LearningRateScheduler(learning_rate_cyclic)\n",
        "checkpoint = keras.callbacks.ModelCheckpoint(\n",
        "    \"models/2022-08-28-Transformer_3to2\", save_best_only=True, monitor=\"val_loss\", save_weights_only=True\n",
        ")\n",
        "\n",
        "callbacks = [lr_schedule]\n",
        "\n",
        "transformer.summary()\n",
        "transformer.compile(\n",
        "    \"adam\", loss=\"sparse_categorical_crossentropy\", metrics=[\"accuracy\"]\n",
        ")\n",
        "history = transformer.fit(train_ds, epochs=epochs, validation_data=val_ds,\n",
        "                          callbacks = callbacks)\n"
      ]
    },
    {
      "cell_type": "code",
      "execution_count": null,
      "metadata": {
        "colab": {
          "base_uri": "https://localhost:8080/",
          "height": 265
        },
        "id": "63HvyOthp0Ol",
        "outputId": "3510bbeb-e68e-4011-e6a2-70d027b32e52"
      },
      "outputs": [
        {
          "output_type": "display_data",
          "data": {
            "text/plain": [
              "<Figure size 432x288 with 1 Axes>"
            ],
            "image/png": "[encoded data removed]"
          },
          "metadata": {
            "needs_background": "light"
          }
        }
      ],
      "source": [
        "plt.plot(history.history['loss'], c=\"r\", label=\"loss\")\n",
        "plt.plot(history.history['accuracy'], c='b', label=\"accuracy\")\n",
        "plt.legend()\n",
        "plt.show()"
      ]
    },
    {
      "cell_type": "code",
      "execution_count": null,
      "metadata": {
        "id": "00LXDpuDaxsr"
      },
      "outputs": [],
      "source": [
        "# transformer.save(\"models/2022-08-24-Transformer\")\n",
        "transformer.save_weights(\"models/2022-08-28-Transformer_3to2\")"
      ]
    },
    {
      "cell_type": "code",
      "source": [
        "loaded_transformer = keras.Model(\n",
        "    [encoder_inputs, decoder_inputs], decoder_outputs, name=\"loaded_transformer\"\n",
        ")\n",
        "loaded_transformer.load_weights(\"models/2022-08-28-Transformer_3to2\")"
      ],
      "metadata": {
        "colab": {
          "base_uri": "https://localhost:8080/"
        },
        "id": "snv1Vq25bHZQ",
        "outputId": "da59f3e1-d466-44ed-a070-daf785dceaf9"
      },
      "execution_count": null,
      "outputs": [
        {
          "output_type": "execute_result",
          "data": {
            "text/plain": [
              "<tensorflow.python.training.tracking.util.CheckpointLoadStatus at 0x7fe663702510>"
            ]
          },
          "metadata": {},
          "execution_count": 62
        }
      ]
    },
    {
      "cell_type": "code",
      "execution_count": null,
      "metadata": {
        "id": "byar8OULG7wN"
      },
      "outputs": [],
      "source": [
        "y_vocab = y_vectorization.get_vocabulary()\n",
        "y_index_lookup = dict(zip(range(len(y_vocab)), y_vocab))\n",
        "max_decoded_sentence_length = 350\n",
        "\n",
        "\n",
        "def decode_sequence(input_sentence):\n",
        "    tokenized_input_sentence = X_vectorization([input_sentence])\n",
        "    decoded_sentence = \"[start]\"\n",
        "    for i in range(max_decoded_sentence_length):\n",
        "        tokenized_target_sentence = y_vectorization([decoded_sentence])[:, :-1]\n",
        "        predictions = loaded_transformer([tokenized_input_sentence, tokenized_target_sentence])\n",
        "\n",
        "        sampled_token_index = np.argmax(predictions[0, i, :])\n",
        "        sampled_token = y_index_lookup[sampled_token_index]\n",
        "        decoded_sentence += \" \" + sampled_token\n",
        "\n",
        "        if sampled_token == \"[END]\":\n",
        "            break\n",
        "    return decoded_sentence"
      ]
    },
    {
      "cell_type": "code",
      "execution_count": null,
      "metadata": {
        "colab": {
          "base_uri": "https://localhost:8080/"
        },
        "id": "nA3U7KvISbow",
        "outputId": "a69d7333-6ba4-42ac-cf68-860787123831"
      },
      "outputs": [
        {
          "output_type": "execute_result",
          "data": {
            "text/plain": [
              "5702"
            ]
          },
          "metadata": {},
          "execution_count": 72
        }
      ],
      "source": [
        "len(X_val_text)"
      ]
    },
    {
      "cell_type": "code",
      "execution_count": null,
      "metadata": {
        "colab": {
          "base_uri": "https://localhost:8080/",
          "height": 140
        },
        "id": "H7NOp4-CG7wO",
        "outputId": "d05370af-2158-43cd-b566-466368404c8a"
      },
      "outputs": [
        {
          "output_type": "stream",
          "name": "stdout",
          "text": [
            "CPU times: user 10.6 s, sys: 948 ms, total: 11.6 s\n",
            "Wall time: 11 s\n"
          ]
        },
        {
          "output_type": "execute_result",
          "data": {
            "text/plain": [
              "'[start] mul( mul 512 pow 729 s- 1 pow e 6 pow add( m2u reg_prop s_11 mul( 2 s_13 ) ) s- 2 pow add( m2u reg_prop s_11 mul( 2 s_12 ) mul( 2 s_13 ) mul( 2 s_23 ) ) s- 2 add( mul( 8 m6u ) mul( m2u add( mul( 4 pow s_13 2 ) mul( s_14 s_23 ) mul( s- 1 s_11 s_24 ) mul( s- 8 s_12 s_23 ) mul( s- 4 s_11 s_23 ) mul( s- 4 s_13 s_24 ) mul( s- 2 s_13 s_14 ) mul( s- 2 s_13 s_34 ) mul( 2 s_11 s_13 ) mul( 2 s_12 s_24 ) mul( 2 s_23 s_34 ) mul( 3 s_12 s_34 ) mul( 4 s_12 s_14 ) ) ) mul( m4u add( mul( s- 3 s_24 ) mul( s- 2 s_14 ) mul( s- 2 s_34 ) mul( 4 s_11 ) mul( 4 s_23 ) mul( 14 s_13 ) ) ) mul( s- 2 s_14 pow s_23 2 ) mul( s- 2 s_34 pow s_12 2 ) mul( s_11 s_14 s_23 ) mul( s- 1 s_11 s_12 s_34 ) mul( 2 s_11 s_23 s_24 ) mul( 2 s_11 s_23 s_34 ) mul( 2 s_12 s_13 s_14 ) mul( 2 s_12 s_13 s_24 ) mul( 2 s_12 s_14 s_23 ) mul( 2 s_12 s_23 s_34 ) mul( 2 s_13 s_23 s_24 ) mul( 2 s_13 s_23 s_34 ) mul( 4 s_12 s_23 s_24 ) ) ) [END]'"
            ],
            "application/vnd.google.colaboratory.intrinsic+json": {
              "type": "string"
            }
          },
          "metadata": {},
          "execution_count": 73
        }
      ],
      "source": [
        "%%time\n",
        "decode_sequence(X_train_text[0])"
      ]
    },
    {
      "cell_type": "code",
      "execution_count": null,
      "metadata": {
        "colab": {
          "base_uri": "https://localhost:8080/",
          "height": 105
        },
        "id": "9sQpOC48G7wO",
        "outputId": "160024d7-f3a1-4bff-9824-5771c1faeaba"
      },
      "outputs": [
        {
          "output_type": "execute_result",
          "data": {
            "text/plain": [
              "'[START] mul( mul 512 pow 729 s- 1 pow e 6 pow add( m2u reg_prop s_11 mul( 2 s_13 ) ) s- 2 pow add( m2u reg_prop s_11 mul( 2 s_12 ) mul( 2 s_13 ) mul( 2 s_23 ) ) s- 2 add( mul( 8 m6u ) mul( m2u add( mul( 4 pow s_13 2 ) mul( s_14 s_23 ) mul( s- 1 s_11 s_24 ) mul( s- 8 s_12 s_23 ) mul( s- 4 s_11 s_23 ) mul( s- 4 s_13 s_24 ) mul( s- 2 s_13 s_14 ) mul( s- 2 s_13 s_34 ) mul( 2 s_11 s_13 ) mul( 2 s_12 s_24 ) mul( 2 s_23 s_34 ) mul( 3 s_12 s_34 ) mul( 4 s_12 s_14 ) ) ) mul( m4u add( mul( s- 3 s_24 ) mul( s- 2 s_14 ) mul( s- 2 s_34 ) mul( 4 s_11 ) mul( 4 s_23 ) mul( 14 s_13 ) ) ) mul( s- 2 s_14 pow s_23 2 ) mul( s- 2 s_34 pow s_12 2 ) mul( s_11 s_14 s_23 ) mul( s- 1 s_11 s_12 s_34 ) mul( 2 s_11 s_23 s_24 ) mul( 2 s_11 s_23 s_34 ) mul( 2 s_12 s_13 s_14 ) mul( 2 s_12 s_13 s_24 ) mul( 2 s_12 s_14 s_23 ) mul( 2 s_12 s_23 s_34 ) mul( 2 s_13 s_23 s_24 ) mul( 2 s_13 s_23 s_34 ) mul( 4 s_12 s_23 s_24 ) ) ) [END]'"
            ],
            "application/vnd.google.colaboratory.intrinsic+json": {
              "type": "string"
            }
          },
          "metadata": {},
          "execution_count": 74
        }
      ],
      "source": [
        "y_train_text[0]"
      ]
    },
    {
      "cell_type": "code",
      "execution_count": null,
      "metadata": {
        "id": "OzmMfdLXHYft"
      },
      "outputs": [],
      "source": [
        "def token_accuracy(y_true, y_pred, verbose=0, pred_has_start_end_tokens=True):\n",
        "    \"\"\"\n",
        "    compare two arrays and check how many entries are the same at the same position\n",
        "    \"\"\"\n",
        "    true = y_true.split(\" \")\n",
        "    pred = y_pred.split(\" \")\n",
        "    if pred_has_start_end_tokens:\n",
        "        pred = pred[1:-1]\n",
        "    max_ind = np.min([len(true), len(pred)])\n",
        "    correct_ctr = 0\n",
        "    # ignore [start] and [end]\n",
        "    max_correct = len(pred)\n",
        "    for i in range(max_ind):\n",
        "        if verbose: ic([true[i], pred[i]])\n",
        "        if true[i] == pred[i]:\n",
        "            correct_ctr += 1\n",
        "    return correct_ctr / max_correct"
      ]
    },
    {
      "cell_type": "code",
      "execution_count": null,
      "metadata": {
        "id": "OJEsaQWYK1Dy"
      },
      "outputs": [],
      "source": [
        "y_train_pred = [decode_sequence(x) for x in X_train_text[0:200]]\n",
        "y_val_pred = [decode_sequence(x) for x in X_val_text[0:200]]"
      ]
    },
    {
      "cell_type": "code",
      "source": [
        "train_true_file = \"predictions/train_true.txt\"\n",
        "train_pred_file = \"predictions/train_pred.txt\"\n",
        "test_true_file = \"predictions/test_true.txt\"\n",
        "test_pred_file = \"predictions/test_pred.txt\"\n",
        "\n",
        "with open(train_true_file, \"w\") as f:\n",
        "    for line in y_train_text:\n",
        "        f.write(line)\n",
        "\n",
        "with open(train_pred_file, \"w\") as f:\n",
        "    for line in y_train_pred:\n",
        "        f.write(line)\n",
        "\n",
        "with open(test_pred_file, \"w\") as f:\n",
        "    for line in y_val_pred:\n",
        "        f.write(line)\n",
        "\n",
        "with open(test_true_file, \"w\") as f:\n",
        "    for line in y_val_text:\n",
        "        f.write(line)"
      ],
      "metadata": {
        "id": "YGZOCFB9eS7X"
      },
      "execution_count": null,
      "outputs": []
    },
    {
      "cell_type": "code",
      "execution_count": null,
      "metadata": {
        "colab": {
          "base_uri": "https://localhost:8080/"
        },
        "id": "tJRErbkRsH7-",
        "outputId": "01fb1edd-e5d0-41ba-956b-6b530226c85b"
      },
      "outputs": [
        {
          "output_type": "execute_result",
          "data": {
            "text/plain": [
              "array(['[start]', 'mul(', 'mul', '512', 'pow', '729', 's-', '1', 'pow',\n",
              "       'e', '6', 'pow', 'add(', 'm2u', 'reg_prop', 's_11', 'mul(', '2',\n",
              "       's_13', ')', ')', 's-', '2', 'pow', 'add(', 'm2u', 'reg_prop',\n",
              "       's_11', 'mul(', '2', 's_12', ')', 'mul(', '2', 's_13', ')', 'mul(',\n",
              "       '2', 's_23', ')', ')', 's-', '2', 'add(', 'mul(', '8', 'm6u', ')',\n",
              "       'mul(', 'm2u', 'add(', 'mul(', '4', 'pow', 's_13', '2', ')',\n",
              "       'mul(', 's_14', 's_23', ')', 'mul(', 's-', '1', 's_11', 's_24',\n",
              "       ')', 'mul(', 's-', '8', 's_12', 's_23', ')', 'mul(', 's-', '4',\n",
              "       's_11', 's_23', ')', 'mul(', 's-', '4', 's_13', 's_24', ')',\n",
              "       'mul(', 's-', '2', 's_13', 's_14', ')', 'mul(', 's-', '2', 's_13',\n",
              "       's_34', ')', 'mul(', '2', 's_11', 's_13', ')', 'mul(', '2', 's_12',\n",
              "       's_24', ')', 'mul(', '2', 's_23', 's_34', ')', 'mul(', '3', 's_12',\n",
              "       's_34', ')', 'mul(', '4', 's_12', 's_14', ')', ')', ')', 'mul(',\n",
              "       'm4u', 'add(', 'mul(', 's-', '3', 's_24', ')', 'mul(', 's-', '2',\n",
              "       's_14', ')', 'mul(', 's-', '2', 's_34', ')', 'mul(', '4', 's_11',\n",
              "       ')', 'mul(', '4', 's_23', ')', 'mul(', '14', 's_13', ')', ')', ')',\n",
              "       'mul(', 's-', '2', 's_14', 'pow', 's_23', '2', ')', 'mul(', 's-',\n",
              "       '2', 's_34', 'pow', 's_12', '2', ')', 'mul(', 's_11', 's_14',\n",
              "       's_23', ')', 'mul(', 's-', '1', 's_11', 's_12', 's_34', ')',\n",
              "       'mul(', '2', 's_11', 's_23', 's_24', ')', 'mul(', '2', 's_11',\n",
              "       's_23', 's_34', ')', 'mul(', '2', 's_12', 's_13', 's_14', ')',\n",
              "       'mul(', '2', 's_12', 's_13', 's_24', ')', 'mul(', '2', 's_12',\n",
              "       's_14', 's_23', ')', 'mul(', '2', 's_12', 's_23', 's_34', ')',\n",
              "       'mul(', '2', 's_13', 's_23', 's_24', ')', 'mul(', '2', 's_13',\n",
              "       's_23', 's_34', ')', 'mul(', '4', 's_12', 's_23', 's_24', ')', ')',\n",
              "       ')', '[END]'], dtype='<U8')"
            ]
          },
          "metadata": {},
          "execution_count": 80
        }
      ],
      "source": [
        "np.array(y_train_pred[0].split(\" \"))"
      ]
    },
    {
      "cell_type": "code",
      "execution_count": null,
      "metadata": {
        "colab": {
          "base_uri": "https://localhost:8080/"
        },
        "id": "qoJOar-HsJwJ",
        "outputId": "788df94b-834c-4270-8379-f7b8dcbeef90"
      },
      "outputs": [
        {
          "output_type": "execute_result",
          "data": {
            "text/plain": [
              "array(['[START]', 'mul(', 'mul', '512', 'pow', '729', 's-', '1', 'pow',\n",
              "       'e', '6', 'pow', 'add(', 'm2u', 'reg_prop', 's_11', 'mul(', '2',\n",
              "       's_13', ')', ')', 's-', '2', 'pow', 'add(', 'm2u', 'reg_prop',\n",
              "       's_11', 'mul(', '2', 's_12', ')', 'mul(', '2', 's_13', ')', 'mul(',\n",
              "       '2', 's_23', ')', ')', 's-', '2', 'add(', 'mul(', '8', 'm6u', ')',\n",
              "       'mul(', 'm2u', 'add(', 'mul(', '4', 'pow', 's_13', '2', ')',\n",
              "       'mul(', 's_14', 's_23', ')', 'mul(', 's-', '1', 's_11', 's_24',\n",
              "       ')', 'mul(', 's-', '8', 's_12', 's_23', ')', 'mul(', 's-', '4',\n",
              "       's_11', 's_23', ')', 'mul(', 's-', '4', 's_13', 's_24', ')',\n",
              "       'mul(', 's-', '2', 's_13', 's_14', ')', 'mul(', 's-', '2', 's_13',\n",
              "       's_34', ')', 'mul(', '2', 's_11', 's_13', ')', 'mul(', '2', 's_12',\n",
              "       's_24', ')', 'mul(', '2', 's_23', 's_34', ')', 'mul(', '3', 's_12',\n",
              "       's_34', ')', 'mul(', '4', 's_12', 's_14', ')', ')', ')', 'mul(',\n",
              "       'm4u', 'add(', 'mul(', 's-', '3', 's_24', ')', 'mul(', 's-', '2',\n",
              "       's_14', ')', 'mul(', 's-', '2', 's_34', ')', 'mul(', '4', 's_11',\n",
              "       ')', 'mul(', '4', 's_23', ')', 'mul(', '14', 's_13', ')', ')', ')',\n",
              "       'mul(', 's-', '2', 's_14', 'pow', 's_23', '2', ')', 'mul(', 's-',\n",
              "       '2', 's_34', 'pow', 's_12', '2', ')', 'mul(', 's_11', 's_14',\n",
              "       's_23', ')', 'mul(', 's-', '1', 's_11', 's_12', 's_34', ')',\n",
              "       'mul(', '2', 's_11', 's_23', 's_24', ')', 'mul(', '2', 's_11',\n",
              "       's_23', 's_34', ')', 'mul(', '2', 's_12', 's_13', 's_14', ')',\n",
              "       'mul(', '2', 's_12', 's_13', 's_24', ')', 'mul(', '2', 's_12',\n",
              "       's_14', 's_23', ')', 'mul(', '2', 's_12', 's_23', 's_34', ')',\n",
              "       'mul(', '2', 's_13', 's_23', 's_24', ')', 'mul(', '2', 's_13',\n",
              "       's_23', 's_34', ')', 'mul(', '4', 's_12', 's_23', 's_24', ')', ')',\n",
              "       ')', '[END]'], dtype='<U8')"
            ]
          },
          "metadata": {},
          "execution_count": 81
        }
      ],
      "source": [
        "np.array(y_train[0])"
      ]
    },
    {
      "cell_type": "code",
      "execution_count": null,
      "metadata": {
        "id": "gHduiFnwZ1Lg"
      },
      "outputs": [],
      "source": [
        "train_accs = [token_accuracy(y_train_text[i], y_train_pred[i], pred_has_start_end_tokens=False) for i in range(len(y_train_pred))]\n",
        "val_accs = [token_accuracy(y_val_text[i], y_val_pred[i], pred_has_start_end_tokens=False) for i in range(len(y_val_pred))]"
      ]
    },
    {
      "cell_type": "code",
      "execution_count": null,
      "metadata": {
        "colab": {
          "base_uri": "https://localhost:8080/"
        },
        "id": "NZRS1LCJLHKD",
        "outputId": "d7cf2aa7-964d-4756-95ea-29b0b82a9dd3"
      },
      "outputs": [
        {
          "output_type": "stream",
          "name": "stdout",
          "text": [
            "train: 0.981242872773384\n",
            "val: 0.9654626999366843\n"
          ]
        }
      ],
      "source": [
        "print(\"train:\", np.mean(train_accs))\n",
        "print(\"val:\", np.mean(val_accs)) "
      ]
    },
    {
      "cell_type": "code",
      "execution_count": null,
      "metadata": {
        "colab": {
          "base_uri": "https://localhost:8080/"
        },
        "id": "CW2p2HtSWwuL",
        "outputId": "f80639e9-64b4-4e2d-91b8-d5f97217b465"
      },
      "outputs": [
        {
          "output_type": "stream",
          "name": "stdout",
          "text": [
            "tf.Tensor(\n",
            "[  6 138  51   5  52  53   5  17   5 107  16   4  16  86   4  35  88  85\n",
            "   4  35  63  32   3   7   5  17   5 107  16   4   7  88   4  54  32   3\n",
            "   7   2  25  23  29   2  25  21  26  17   4 107   2  27  26  22   6   7\n",
            "  61  18   2  18  26  28   2  27  28  22   3   6   7  60  18   2  18  26\n",
            "  31   2  27  31  22   3   6  58  18   2  18  26  30   2  27  30  22   3\n",
            "   3  42  11  27  38  67  13  22  33  66  10  23  45  66   9  21  55  67\n",
            "  12  29  43   3   0   0   0   0   0   0   0   0   0   0   0   0   0   0\n",
            "   0   0   0   0   0   0   0   0   0   0   0   0   0   0   0   0   0   0\n",
            "   0   0   0   0   0   0   0   0   0   0   0   0   0   0   0   0   0   0\n",
            "   0   0   0   0   0   0   0   0   0   0   0   0   0   0   0   0   0   0\n",
            "   0   0   0   0   0   0   0   0   0   0   0   0   0   0   0   0   0   0\n",
            "   0   0   0   0   0   0   0   0   0   0   0   0   0   0   0   0   0   0\n",
            "   0   0   0   0   0   0   0   0   0   0   0   0   0   0   0   0   0   0\n",
            "   0   0   0   0   0   0   0   0   0   0   0   0   0   0   0   0   0   0\n",
            "   0   0   0   0   0   0   0   0   0   0   0   0   0   0   0   0   0   0\n",
            "   0   0   0   0   0   0   0   0   0   0   0   0   0   0   0   0   0   0\n",
            "   0   0   0   0   0   0   0   0   0   0   0   0   0   0   0   0   0   0\n",
            "   0   0   0   0   0   0   0   0   0   0   0   0   0   0   0   0   0   0\n",
            "   0   0   0   0   0   0   0   0   0   0   0   0   0   0   0   0   0   0\n",
            "   0   0   0   0   0   0   0   0], shape=(350,), dtype=int64)\n",
            "tf.Tensor(\n",
            "[  3  31  25  13  40   5  14  13  28  26  13  15  23   3   5   4   7   2\n",
            "   3   4  35   2   2   5   4  13  15  35  23  19   3   5   4   7   2   3\n",
            "   5   4   8   2   3   4  12   2   2   5   4  15   3  51 103   2   3  35\n",
            "  15   3   9  13   7   4   2   3   5  14  11  19   2   3   5   9  10  12\n",
            "   2   3   5   9  11   7   2   3   5   9   6   8   2   3   5   4  10   7\n",
            "   2   3   5   4  10  19   2   3   5   4  11  12   2   3   5   4   7  19\n",
            "   2   3   4  11   8   2   3   4   6   7   2   3   4   6  19   2   3  27\n",
            "  10   8   2   3  27   6  12   2   3  25  12   8   2   2   2   3  59  15\n",
            "   3   5  78   7   2   3   5   9   6   2   3   9  10   2   3 122  11   2\n",
            "   2   2   3   5   4   6  13  12   4   2   3   4  10  13   8   4   2   3\n",
            "   5  14  10  19   8   2   3   5  14   6  12  19   2   3   5   4  11   7\n",
            "   8   2   3   5   4   6  12   8   2   3   4  10  12   7   2   3   4  10\n",
            "  12   8   2   3   4  11  12   7   2   3   4   6   7   8   2   3   9  11\n",
            "  12   8   2   2   2  30   0   0   0   0   0   0   0   0   0   0   0   0\n",
            "   0   0   0   0   0   0   0   0   0   0   0   0   0   0   0   0   0   0\n",
            "   0   0   0   0   0   0   0   0   0   0   0   0   0   0   0   0   0   0\n",
            "   0   0   0   0   0   0   0   0   0   0   0   0   0   0   0   0   0   0\n",
            "   0   0   0   0   0   0   0   0   0   0   0   0   0   0   0   0   0   0\n",
            "   0   0   0   0   0   0   0   0   0   0   0   0   0   0   0   0   0   0\n",
            "   0   0   0   0   0   0   0   0], shape=(350,), dtype=int64)\n"
          ]
        }
      ],
      "source": [
        "for inputs, targets in train_ds.take(1):\n",
        "    print(inputs['encoder_inputs'][0])\n",
        "    print(targets[0])"
      ]
    },
    {
      "cell_type": "code",
      "execution_count": null,
      "metadata": {
        "id": "dN12S5zcqQ18"
      },
      "outputs": [],
      "source": []
    }
  ],
  "metadata": {
    "accelerator": "GPU",
    "colab": {
      "background_execution": "on",
      "collapsed_sections": [],
      "provenance": []
    },
    "gpuClass": "standard",
    "kernelspec": {
      "display_name": "symba",
      "language": "python",
      "name": "symba"
    },
    "language_info": {
      "codemirror_mode": {
        "name": "ipython",
        "version": 3
      },
      "file_extension": ".py",
      "mimetype": "text/x-python",
      "name": "python",
      "nbconvert_exporter": "python",
      "pygments_lexer": "ipython3",
      "version": "3.10.5"
    },
    "vscode": {
      "interpreter": {
        "hash": "f5d976e6d509e4e27f2efe6a9897c82aaf49c602a756d97e47468f8a9400283d"
      }
    }
  },
  "nbformat": 4,
  "nbformat_minor": 0
}