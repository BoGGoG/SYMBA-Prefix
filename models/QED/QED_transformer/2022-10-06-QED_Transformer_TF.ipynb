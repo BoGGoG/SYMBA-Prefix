{
  "cells": [
    {
      "cell_type": "code",
      "execution_count": 1,
      "metadata": {
        "id": "6n5JafNiO5rn"
      },
      "outputs": [],
      "source": [
        "import os\n",
        "# os.system(\"export LD_LIBRARY_PATH=$LD_LIBRARY_PATH:$CONDA_PREFIX/lib/\")"
      ]
    },
    {
      "cell_type": "code",
      "source": [
        "pip install icecream"
      ],
      "metadata": {
        "colab": {
          "base_uri": "https://localhost:8080/"
        },
        "id": "tGRbjk7wPAsz",
        "outputId": "d7e3f5f5-b614-429e-a667-50c571cc635c"
      },
      "execution_count": 2,
      "outputs": [
        {
          "output_type": "stream",
          "name": "stdout",
          "text": [
            "Looking in indexes: https://pypi.org/simple, https://us-python.pkg.dev/colab-wheels/public/simple/\n",
            "Collecting icecream\n",
            "  Downloading icecream-2.1.3-py2.py3-none-any.whl (8.4 kB)\n",
            "Collecting executing>=0.3.1\n",
            "  Downloading executing-1.1.0-py2.py3-none-any.whl (22 kB)\n",
            "Collecting colorama>=0.3.9\n",
            "  Downloading colorama-0.4.5-py2.py3-none-any.whl (16 kB)\n",
            "Requirement already satisfied: pygments>=2.2.0 in /usr/local/lib/python3.7/dist-packages (from icecream) (2.6.1)\n",
            "Collecting asttokens>=2.0.1\n",
            "  Downloading asttokens-2.0.8-py2.py3-none-any.whl (23 kB)\n",
            "Requirement already satisfied: six in /usr/local/lib/python3.7/dist-packages (from asttokens>=2.0.1->icecream) (1.15.0)\n",
            "Installing collected packages: executing, colorama, asttokens, icecream\n",
            "Successfully installed asttokens-2.0.8 colorama-0.4.5 executing-1.1.0 icecream-2.1.3\n"
          ]
        }
      ]
    },
    {
      "cell_type": "code",
      "execution_count": 32,
      "metadata": {
        "id": "C06NN7uQO5ro"
      },
      "outputs": [],
      "source": [
        "import os\n",
        "import sys\n",
        "import os\n",
        "from icecream import ic \n",
        "import csv\n",
        "import numpy as np\n",
        "import matplotlib.pyplot as plt\n",
        "from sklearn.model_selection import train_test_split\n",
        "import pathlib\n",
        "import random\n",
        "import string\n",
        "import re\n",
        "import numpy as np\n",
        "import tensorflow as tf\n",
        "from tensorflow import keras\n",
        "from tensorflow.keras import layers\n",
        "from tensorflow.keras.layers import TextVectorization\n",
        "from tqdm.notebook import tqdm"
      ]
    },
    {
      "cell_type": "code",
      "execution_count": 4,
      "metadata": {
        "colab": {
          "base_uri": "https://localhost:8080/"
        },
        "id": "w7n73nR-O5rp",
        "outputId": "1b7727de-c308-49e7-d13e-fe4df6e7e7da"
      },
      "outputs": [
        {
          "output_type": "stream",
          "name": "stdout",
          "text": [
            "[PhysicalDevice(name='/physical_device:GPU:0', device_type='GPU')]\n"
          ]
        }
      ],
      "source": [
        "print(tf.config.list_physical_devices('GPU'))"
      ]
    },
    {
      "cell_type": "code",
      "source": [
        "# only needed for colab\n",
        "from google.colab import drive\n",
        "drive.mount('/content/drive')"
      ],
      "metadata": {
        "colab": {
          "base_uri": "https://localhost:8080/"
        },
        "id": "Rsilc8q6PSD3",
        "outputId": "c6b08027-286c-45be-d61c-944e262c73a0"
      },
      "execution_count": 5,
      "outputs": [
        {
          "output_type": "stream",
          "name": "stdout",
          "text": [
            "Mounted at /content/drive\n"
          ]
        }
      ]
    },
    {
      "cell_type": "code",
      "source": [
        "import os\n",
        "os.chdir('/content/drive/MyDrive/SYMBA/')"
      ],
      "metadata": {
        "id": "JqMD3p1lPZNt"
      },
      "execution_count": 6,
      "outputs": []
    },
    {
      "cell_type": "code",
      "execution_count": 7,
      "metadata": {
        "colab": {
          "base_uri": "https://localhost:8080/"
        },
        "id": "s1SXI2JCO5rp",
        "outputId": "58903851-6334-48b2-b7eb-1d18fceca895"
      },
      "outputs": [
        {
          "output_type": "execute_result",
          "data": {
            "text/plain": [
              "['2022-07-20-RNNAttention',\n",
              " '2022-07-20-FirstTransformer',\n",
              " 'data.nosync_old',\n",
              " 'data.nosync',\n",
              " '2022-08-22-Transformer',\n",
              " 'models',\n",
              " '2022-08-24-Transformer-NewData',\n",
              " 'QED']"
            ]
          },
          "metadata": {},
          "execution_count": 7
        }
      ],
      "source": [
        "os.listdir()"
      ]
    },
    {
      "cell_type": "code",
      "execution_count": 8,
      "metadata": {
        "id": "FEOTQmQlO5rq"
      },
      "outputs": [],
      "source": [
        "amplitudes_files = [\n",
        "    \"data.nosync/train/QED_amplitudes_TreeLevel_1to2_train.txt\",\n",
        "    \"data.nosync/train/QED_amplitudes_TreeLevel_2to1_train.txt\",\n",
        "    \"data.nosync/train/QED_amplitudes_TreeLevel_2to2_train.txt\",\n",
        "    \"data.nosync/train/QED_amplitudes_TreeLevel_2to3_train.txt\",\n",
        "    \"data.nosync/train/QED_amplitudes_TreeLevel_3to2_train.txt\",\n",
        "]\n",
        "sqamplitudes_files = [\n",
        "    \"data.nosync/train/QED_sqamplitudes_TreeLevel_1to2_simplified_shortened_hybridprefix_train.txt\",\n",
        "    \"data.nosync/train/QED_sqamplitudes_TreeLevel_2to1_simplified_shortened_hybridprefix_train.txt\",\n",
        "    \"data.nosync/train/QED_sqamplitudes_TreeLevel_2to2_simplified_shortened_hybridprefix_train.txt\",\n",
        "    \"data.nosync/train/QED_sqamplitudes_TreeLevel_2to3_simplified_shortened_hybridprefix_train.txt\",\n",
        "    \"data.nosync/train/QED_sqamplitudes_TreeLevel_3to2_simplified_shortened_hybridprefix_train.txt\",\n",
        "]"
      ]
    },
    {
      "cell_type": "code",
      "execution_count": 9,
      "metadata": {
        "id": "6fZoGO0TO5rq"
      },
      "outputs": [],
      "source": [
        "X_train = []\n",
        "for file in amplitudes_files:\n",
        "    with open(file, 'r') as f:\n",
        "        for line in f.readlines() :\n",
        "            line = line.split(\",\")\n",
        "            line[-1] = line[-1].replace(\"\\n\", \"\")\n",
        "            X_train.append(line)\n",
        "\n",
        "y_train = []\n",
        "for file in sqamplitudes_files:\n",
        "    with open(file, 'r') as f:\n",
        "        for line in f.readlines() :\n",
        "            line = line.split(\",\")\n",
        "            line[-1] = line[-1].replace(\"\\n\", \"\")\n",
        "            # line = [\"[START]\"] + line + [\"[END]\"]\n",
        "            y_train.append(line)"
      ]
    },
    {
      "cell_type": "code",
      "execution_count": 10,
      "metadata": {
        "id": "_26MHqKoO5rq"
      },
      "outputs": [],
      "source": [
        "assert len(X_train) == len(y_train)"
      ]
    },
    {
      "cell_type": "code",
      "execution_count": 11,
      "metadata": {
        "id": "XsI5v58HO5rq"
      },
      "outputs": [],
      "source": [
        "X_train, X_val, y_train, y_val = train_test_split(X_train, y_train, test_size=0.02, random_state=42)"
      ]
    },
    {
      "cell_type": "code",
      "execution_count": 12,
      "metadata": {
        "colab": {
          "base_uri": "https://localhost:8080/"
        },
        "id": "9BaRxwcXO5rr",
        "outputId": "7b3e5a8b-1600-4345-f3b7-3f4aaa9d266b"
      },
      "outputs": [
        {
          "output_type": "stream",
          "name": "stderr",
          "text": [
            "ic| Error: Failed to access the underlying source code for analysis. Was ic() invoked in a REPL (e.g. from the command line), a frozen application (e.g. packaged with PyInstaller), or did the underlying source code change during execution?\n",
            "ic| Error: Failed to access the underlying source code for analysis. Was ic() invoked in a REPL (e.g. from the command line), a frozen application (e.g. packaged with PyInstaller), or did the underlying source code change during execution?\n"
          ]
        },
        {
          "output_type": "execute_result",
          "data": {
            "text/plain": [
              "4770"
            ]
          },
          "metadata": {},
          "execution_count": 12
        }
      ],
      "source": [
        "ic(len(X_train))\n",
        "ic(len(X_val))"
      ]
    },
    {
      "cell_type": "markdown",
      "metadata": {
        "id": "A2fsRt6vO5rr"
      },
      "source": [
        "# Creating the Dataset"
      ]
    },
    {
      "cell_type": "code",
      "execution_count": 13,
      "metadata": {
        "id": "yHawkzHMO5rs"
      },
      "outputs": [],
      "source": [
        "vocab_size = 500\n",
        "sequence_length = 350\n",
        "batch_size = 8"
      ]
    },
    {
      "cell_type": "code",
      "execution_count": 14,
      "metadata": {
        "colab": {
          "base_uri": "https://localhost:8080/"
        },
        "id": "Jo3BE6jtO5rs",
        "outputId": "d4a5698e-d4c0-4a02-c600-c47f785f173e"
      },
      "outputs": [
        {
          "output_type": "stream",
          "name": "stdout",
          "text": [
            "X train: 0.9461537474167918% okay\n",
            "y train: 0.8247140821749008% okay\n",
            "X val: 0.9410901467505242% okay\n",
            "y val: 0.8169811320754717% okay\n"
          ]
        }
      ],
      "source": [
        "X_train_idx_okay = np.where([len(x) < sequence_length for x in X_train])[0]\n",
        "y_train_idx_okay = np.where([len(y) < sequence_length for y in y_train])[0]\n",
        "train_idx_okay = np.intersect1d(X_train_idx_okay, y_train_idx_okay) \n",
        "X_train_short = [X_train[i] for i in train_idx_okay]\n",
        "y_train_short = [y_train[i] for i in train_idx_okay]\n",
        "X_train_text = [\" \".join(x) for x in X_train_short]\n",
        "y_train_text = [\" \".join(yy) for yy in y_train_short]\n",
        "\n",
        "print(\"X train: {}% okay\".format(len(X_train_idx_okay)/len(X_train)))\n",
        "print(\"y train: {}% okay\".format(len(y_train_idx_okay)/len(X_train)))\n",
        "\n",
        "\n",
        "X_val_idx_okay = np.where([len(x) < sequence_length for x in X_val])[0]\n",
        "y_val_idx_okay = np.where([len(y) < sequence_length for y in y_val])[0]\n",
        "val_idx_okay = np.intersect1d(X_val_idx_okay, y_val_idx_okay) \n",
        "X_val_short = [X_val[i] for i in val_idx_okay]\n",
        "y_val_short = [y_val[i] for i in val_idx_okay]\n",
        "X_val_text = [\" \".join(x) for x in X_val_short]\n",
        "y_val_text = [\" \".join(yy) for yy in y_val_short]\n",
        "\n",
        "print(\"X val: {}% okay\".format(len(X_val_idx_okay)/len(X_val)))\n",
        "print(\"y val: {}% okay\".format(len(y_val_idx_okay)/len(X_val)))"
      ]
    },
    {
      "cell_type": "code",
      "execution_count": 15,
      "metadata": {
        "id": "l0kbsAZuO5rt"
      },
      "outputs": [],
      "source": [
        "def custom_standardization(input_string):\n",
        "    return input_string\n",
        "\n",
        "X_vectorization = TextVectorization(\n",
        "    max_tokens=vocab_size,\n",
        "    output_mode=\"int\",\n",
        "    output_sequence_length=sequence_length,\n",
        "    standardize=None,\n",
        ")\n",
        "\n",
        "y_vectorization = TextVectorization(\n",
        "    max_tokens=vocab_size,\n",
        "    output_mode=\"int\",\n",
        "    output_sequence_length=sequence_length+1,\n",
        "    standardize=None,\n",
        ")"
      ]
    },
    {
      "cell_type": "code",
      "execution_count": 16,
      "metadata": {
        "id": "eJc5yj8bO5rt"
      },
      "outputs": [],
      "source": [
        "X_vectorization.adapt(X_train_text)\n",
        "y_vectorization.adapt(y_train_text)"
      ]
    },
    {
      "cell_type": "code",
      "execution_count": 17,
      "metadata": {
        "id": "jgmuozLCO5rt"
      },
      "outputs": [],
      "source": [
        "def format_dataset(X, y):\n",
        "    X_vec = X_vectorization(X)\n",
        "    y_vec = y_vectorization(y)\n",
        "    return (\n",
        "        {\n",
        "            \"encoder_inputs\": X_vec,\n",
        "            \"decoder_inputs\": y_vec[:, :-1],\n",
        "        },\n",
        "        y_vec[:, 1:],\n",
        "    )\n",
        "\n",
        "\n",
        "def make_dataset(X_text, y_text):\n",
        "    dataset = tf.data.Dataset.from_tensor_slices((X_text, y_text))\n",
        "    dataset = dataset.batch(batch_size)\n",
        "    dataset = dataset.map(format_dataset)\n",
        "    return dataset.shuffle(2048).prefetch(16).cache()\n",
        "\n",
        "\n",
        "train_ds = make_dataset(X_train_text, y_train_text)\n",
        "val_ds = make_dataset(X_val_text, y_val_text)\n",
        "# test_ds = make_dataset(X_test_text, y_test_text)"
      ]
    },
    {
      "cell_type": "markdown",
      "metadata": {
        "id": "7f7hT8K3O5ru"
      },
      "source": [
        "# Model"
      ]
    },
    {
      "cell_type": "code",
      "execution_count": 18,
      "metadata": {
        "id": "CwszbHP8O5ru"
      },
      "outputs": [],
      "source": [
        "class TransformerEncoder(layers.Layer):\n",
        "    def __init__(self, embed_dim, dense_dim, num_heads, **kwargs):\n",
        "        super(TransformerEncoder, self).__init__(**kwargs)\n",
        "        self.embed_dim = embed_dim\n",
        "        self.dense_dim = dense_dim\n",
        "        self.num_heads = num_heads\n",
        "        self.attention = layers.MultiHeadAttention(\n",
        "            num_heads=num_heads, key_dim=embed_dim\n",
        "        )\n",
        "        self.dense_proj = keras.Sequential(\n",
        "            [layers.Dense(dense_dim, activation=\"relu\"), layers.Dense(embed_dim),]\n",
        "        )\n",
        "        self.layernorm_1 = layers.LayerNormalization()\n",
        "        self.layernorm_2 = layers.LayerNormalization()\n",
        "        self.supports_masking = True\n",
        "\n",
        "    def call(self, inputs, mask=None):\n",
        "        if mask is not None:\n",
        "            padding_mask = tf.cast(mask[:, tf.newaxis, tf.newaxis, :], dtype=\"int32\")\n",
        "        attention_output = self.attention(\n",
        "            query=inputs, value=inputs, key=inputs, attention_mask=padding_mask\n",
        "        )\n",
        "        proj_input = self.layernorm_1(inputs + attention_output)\n",
        "        proj_output = self.dense_proj(proj_input)\n",
        "        return self.layernorm_2(proj_input + proj_output)\n",
        "\n",
        "\n",
        "class PositionalEmbedding(layers.Layer):\n",
        "    def __init__(self, sequence_length, vocab_size, embed_dim, **kwargs):\n",
        "        super(PositionalEmbedding, self).__init__(**kwargs)\n",
        "        self.token_embeddings = layers.Embedding(\n",
        "            input_dim=vocab_size, output_dim=embed_dim\n",
        "        )\n",
        "        self.position_embeddings = layers.Embedding(\n",
        "            input_dim=sequence_length, output_dim=embed_dim\n",
        "        )\n",
        "        self.sequence_length = sequence_length\n",
        "        self.vocab_size = vocab_size\n",
        "        self.embed_dim = embed_dim\n",
        "\n",
        "    def call(self, inputs):\n",
        "        length = tf.shape(inputs)[-1]\n",
        "        positions = tf.range(start=0, limit=length, delta=1)\n",
        "        embedded_tokens = self.token_embeddings(inputs)\n",
        "        embedded_positions = self.position_embeddings(positions)\n",
        "        return embedded_tokens + embedded_positions\n",
        "\n",
        "    def compute_mask(self, inputs, mask=None):\n",
        "        return tf.math.not_equal(inputs, 0)\n",
        "\n",
        "\n",
        "class TransformerDecoder(layers.Layer):\n",
        "    def __init__(self, embed_dim, latent_dim, num_heads, **kwargs):\n",
        "        super(TransformerDecoder, self).__init__(**kwargs)\n",
        "        self.embed_dim = embed_dim\n",
        "        self.latent_dim = latent_dim\n",
        "        self.num_heads = num_heads\n",
        "        self.attention_1 = layers.MultiHeadAttention(\n",
        "            num_heads=num_heads, key_dim=embed_dim\n",
        "        )\n",
        "        self.attention_2 = layers.MultiHeadAttention(\n",
        "            num_heads=num_heads, key_dim=embed_dim\n",
        "        )\n",
        "        self.dense_proj = keras.Sequential(\n",
        "            [layers.Dense(latent_dim, activation=\"relu\"), layers.Dense(embed_dim),]\n",
        "        )\n",
        "        self.layernorm_1 = layers.LayerNormalization()\n",
        "        self.layernorm_2 = layers.LayerNormalization()\n",
        "        self.layernorm_3 = layers.LayerNormalization()\n",
        "        self.supports_masking = True\n",
        "\n",
        "    def call(self, inputs, encoder_outputs, mask=None):\n",
        "        causal_mask = self.get_causal_attention_mask(inputs)\n",
        "        if mask is not None:\n",
        "            padding_mask = tf.cast(mask[:, tf.newaxis, :], dtype=\"int32\")\n",
        "            padding_mask = tf.minimum(padding_mask, causal_mask)\n",
        "\n",
        "        attention_output_1 = self.attention_1(\n",
        "            query=inputs, value=inputs, key=inputs, attention_mask=causal_mask\n",
        "        )\n",
        "        out_1 = self.layernorm_1(inputs + attention_output_1)\n",
        "\n",
        "        attention_output_2 = self.attention_2(\n",
        "            query=out_1,\n",
        "            value=encoder_outputs,\n",
        "            key=encoder_outputs,\n",
        "            attention_mask=padding_mask,\n",
        "        )\n",
        "        out_2 = self.layernorm_2(out_1 + attention_output_2)\n",
        "\n",
        "        proj_output = self.dense_proj(out_2)\n",
        "        return self.layernorm_3(out_2 + proj_output)\n",
        "\n",
        "    def get_causal_attention_mask(self, inputs):\n",
        "        input_shape = tf.shape(inputs)\n",
        "        batch_size, sequence_length = input_shape[0], input_shape[1]\n",
        "        i = tf.range(sequence_length)[:, tf.newaxis]\n",
        "        j = tf.range(sequence_length)\n",
        "        mask = tf.cast(i >= j, dtype=\"int32\")\n",
        "        mask = tf.reshape(mask, (1, input_shape[1], input_shape[1]))\n",
        "        mult = tf.concat(\n",
        "            [tf.expand_dims(batch_size, -1), tf.constant([1, 1], dtype=tf.int32)],\n",
        "            axis=0,\n",
        "        )\n",
        "        return tf.tile(mask, mult)"
      ]
    },
    {
      "cell_type": "code",
      "execution_count": 19,
      "metadata": {
        "colab": {
          "base_uri": "https://localhost:8080/"
        },
        "id": "X5PRaPL-O5rv",
        "outputId": "4d576f15-b0bb-4c3f-bf5f-b01fed4bd3e2"
      },
      "outputs": [
        {
          "output_type": "stream",
          "name": "stdout",
          "text": [
            "Model: \"transformer\"\n",
            "__________________________________________________________________________________________________\n",
            " Layer (type)                   Output Shape         Param #     Connected to                     \n",
            "==================================================================================================\n",
            " encoder_inputs (InputLayer)    [(None, None)]       0           []                               \n",
            "                                                                                                  \n",
            " positional_embedding (Position  (None, None, 256)   217600      ['encoder_inputs[0][0]']         \n",
            " alEmbedding)                                                                                     \n",
            "                                                                                                  \n",
            " decoder_inputs (InputLayer)    [(None, None)]       0           []                               \n",
            "                                                                                                  \n",
            " transformer_encoder (Transform  (None, None, 256)   3155456     ['positional_embedding[0][0]']   \n",
            " erEncoder)                                                                                       \n",
            "                                                                                                  \n",
            " model_1 (Functional)           (None, None, 500)    5605620     ['decoder_inputs[0][0]',         \n",
            "                                                                  'transformer_encoder[0][0]']    \n",
            "                                                                                                  \n",
            "==================================================================================================\n",
            "Total params: 8,978,676\n",
            "Trainable params: 8,978,676\n",
            "Non-trainable params: 0\n",
            "__________________________________________________________________________________________________\n"
          ]
        }
      ],
      "source": [
        "embed_dim = 256  # 512\n",
        "latent_dim = 2048  # 16384\n",
        "num_heads = 8\n",
        "\n",
        "# with tpu_strategy.scope(): # creating the model in the TPUStrategy scope means we will train the model on the TPU\n",
        "encoder_inputs = keras.Input(shape=(None,), dtype=\"int32\", name=\"encoder_inputs\")\n",
        "x = PositionalEmbedding(sequence_length, vocab_size, embed_dim)(encoder_inputs)\n",
        "encoder_outputs = TransformerEncoder(embed_dim, latent_dim, num_heads)(x)\n",
        "encoder = keras.Model(encoder_inputs, encoder_outputs)\n",
        "\n",
        "decoder_inputs = keras.Input(shape=(None,), dtype=\"int32\", name=\"decoder_inputs\")\n",
        "encoded_seq_inputs = keras.Input(shape=(None, embed_dim), name=\"decoder_state_inputs\")\n",
        "x = PositionalEmbedding(sequence_length, vocab_size, embed_dim)(decoder_inputs)\n",
        "x = TransformerDecoder(embed_dim, latent_dim, num_heads)(x, encoded_seq_inputs)\n",
        "x = layers.Dropout(0.5)(x)\n",
        "decoder_outputs = layers.Dense(vocab_size, activation=\"softmax\")(x)\n",
        "decoder = keras.Model([decoder_inputs, encoded_seq_inputs], decoder_outputs)\n",
        "\n",
        "decoder_outputs = decoder([decoder_inputs, encoder_outputs])\n",
        "transformer = keras.Model(\n",
        "    [encoder_inputs, decoder_inputs], decoder_outputs, name=\"transformer\"\n",
        ")\n",
        "transformer.summary()"
      ]
    },
    {
      "cell_type": "code",
      "execution_count": 20,
      "metadata": {
        "id": "_ZK0e6S8O5rv"
      },
      "outputs": [],
      "source": [
        "def create_lr_func(min_lr, max_epochs, max_lr_factor=4.0):\n",
        "    initial_lr = min_lr \n",
        "    max_lr = min_lr*max_lr_factor \n",
        "    def learning_rate_cyclic(epoch):\n",
        "        if epoch <= (max_epochs / 2):\n",
        "            lr = initial_lr + (max_lr-initial_lr) * epoch/(max_epochs/2)\n",
        "            return lr\n",
        "        if (epoch > (max_epochs / 2)) & (epoch < max_epochs):\n",
        "            lr = max_lr - (max_lr-initial_lr) * (epoch-max_epochs/2)/(max_epochs/2)\n",
        "            return lr\n",
        "        else:\n",
        "            lr = initial_lr*np.exp(-(epoch-max_epochs)/10)\n",
        "            return lr\n",
        "    return learning_rate_cyclic"
      ]
    },
    {
      "cell_type": "code",
      "execution_count": 21,
      "metadata": {
        "colab": {
          "base_uri": "https://localhost:8080/",
          "height": 296
        },
        "id": "lazUiOOGO5rv",
        "outputId": "aea28aa0-ad35-4d9f-eb61-b1396ac3461b"
      },
      "outputs": [
        {
          "output_type": "execute_result",
          "data": {
            "text/plain": [
              "Text(0, 0.5, 'learning rate')"
            ]
          },
          "metadata": {},
          "execution_count": 21
        },
        {
          "output_type": "display_data",
          "data": {
            "text/plain": [
              "<Figure size 432x288 with 1 Axes>"
            ],
            "image/png": "[encoded data removed]"
          },
          "metadata": {
            "needs_background": "light"
          }
        }
      ],
      "source": [
        "xrange = range(0,50)\n",
        "yrange = [create_lr_func(0.0005, 20, 4.0)(x) for x in xrange]\n",
        "plt.plot(xrange, yrange)\n",
        "plt.xlabel(\"epoch\")\n",
        "plt.ylabel(\"learning rate\")"
      ]
    },
    {
      "cell_type": "code",
      "execution_count": null,
      "metadata": {
        "colab": {
          "base_uri": "https://localhost:8080/"
        },
        "id": "E2tQXQA_O5rw",
        "outputId": "95bcde03-5f58-4bc6-ece5-528dea8da049"
      },
      "outputs": [
        {
          "output_type": "stream",
          "name": "stdout",
          "text": [
            "Model: \"transformer\"\n",
            "__________________________________________________________________________________________________\n",
            " Layer (type)                   Output Shape         Param #     Connected to                     \n",
            "==================================================================================================\n",
            " encoder_inputs (InputLayer)    [(None, None)]       0           []                               \n",
            "                                                                                                  \n",
            " positional_embedding (Position  (None, None, 256)   217600      ['encoder_inputs[0][0]']         \n",
            " alEmbedding)                                                                                     \n",
            "                                                                                                  \n",
            " decoder_inputs (InputLayer)    [(None, None)]       0           []                               \n",
            "                                                                                                  \n",
            " transformer_encoder (Transform  (None, None, 256)   3155456     ['positional_embedding[0][0]']   \n",
            " erEncoder)                                                                                       \n",
            "                                                                                                  \n",
            " model_1 (Functional)           (None, None, 500)    5605620     ['decoder_inputs[0][0]',         \n",
            "                                                                  'transformer_encoder[0][0]']    \n",
            "                                                                                                  \n",
            "==================================================================================================\n",
            "Total params: 8,978,676\n",
            "Trainable params: 8,978,676\n",
            "Non-trainable params: 0\n",
            "__________________________________________________________________________________________________\n",
            "Epoch 1/50\n",
            "23403/23403 [==============================] - 464s 19ms/step - loss: 0.1946 - accuracy: 0.8981 - val_loss: 0.0378 - val_accuracy: 0.9805 - lr: 5.0000e-04\n",
            "Epoch 2/50\n",
            "23403/23403 [==============================] - 456s 19ms/step - loss: 0.0351 - accuracy: 0.9822 - val_loss: 0.0174 - val_accuracy: 0.9912 - lr: 6.5000e-04\n",
            "Epoch 3/50\n",
            "23403/23403 [==============================] - 456s 19ms/step - loss: 0.0219 - accuracy: 0.9891 - val_loss: 0.0130 - val_accuracy: 0.9936 - lr: 8.0000e-04\n",
            "Epoch 4/50\n",
            "23403/23403 [==============================] - 454s 19ms/step - loss: 0.0172 - accuracy: 0.9916 - val_loss: 0.0099 - val_accuracy: 0.9950 - lr: 9.5000e-04\n",
            "Epoch 5/50\n",
            "23403/23403 [==============================] - 454s 19ms/step - loss: 0.0149 - accuracy: 0.9927 - val_loss: 0.0113 - val_accuracy: 0.9944 - lr: 0.0011\n",
            "Epoch 6/50\n",
            "23403/23403 [==============================] - 455s 19ms/step - loss: 0.0137 - accuracy: 0.9933 - val_loss: 0.0072 - val_accuracy: 0.9964 - lr: 0.0012\n",
            "Epoch 7/50\n",
            "23403/23403 [==============================] - 454s 19ms/step - loss: 0.0129 - accuracy: 0.9937 - val_loss: 0.0097 - val_accuracy: 0.9953 - lr: 0.0014\n",
            "Epoch 8/50\n",
            "23403/23403 [==============================] - 453s 19ms/step - loss: 0.0123 - accuracy: 0.9940 - val_loss: 0.0082 - val_accuracy: 0.9959 - lr: 0.0016\n",
            "Epoch 9/50\n",
            "23403/23403 [==============================] - 452s 19ms/step - loss: 0.0120 - accuracy: 0.9942 - val_loss: 0.0086 - val_accuracy: 0.9958 - lr: 0.0017\n",
            "Epoch 10/50\n",
            "23403/23403 [==============================] - 452s 19ms/step - loss: 0.0122 - accuracy: 0.9941 - val_loss: 0.0101 - val_accuracy: 0.9951 - lr: 0.0019\n",
            "Epoch 11/50\n",
            "23403/23403 [==============================] - 453s 19ms/step - loss: 0.0135 - accuracy: 0.9934 - val_loss: 0.0118 - val_accuracy: 0.9941 - lr: 0.0020\n",
            "Epoch 12/50\n",
            "23403/23403 [==============================] - 452s 19ms/step - loss: 0.0131 - accuracy: 0.9936 - val_loss: 0.0102 - val_accuracy: 0.9949 - lr: 0.0019\n",
            "Epoch 13/50\n",
            "23403/23403 [==============================] - 452s 19ms/step - loss: 0.0137 - accuracy: 0.9933 - val_loss: 0.0111 - val_accuracy: 0.9945 - lr: 0.0017\n",
            "Epoch 14/50\n",
            "23403/23403 [==============================] - 463s 20ms/step - loss: 0.0129 - accuracy: 0.9937 - val_loss: 0.0105 - val_accuracy: 0.9948 - lr: 0.0016\n",
            "Epoch 15/50\n",
            "23403/23403 [==============================] - 456s 19ms/step - loss: 0.0116 - accuracy: 0.9943 - val_loss: 0.0085 - val_accuracy: 0.9957 - lr: 0.0014\n",
            "Epoch 16/50\n",
            "23403/23403 [==============================] - 458s 20ms/step - loss: 0.0098 - accuracy: 0.9951 - val_loss: 0.0093 - val_accuracy: 0.9954 - lr: 0.0012\n",
            "Epoch 17/50\n",
            "23403/23403 [==============================] - 453s 19ms/step - loss: 0.0080 - accuracy: 0.9960 - val_loss: 0.0061 - val_accuracy: 0.9970 - lr: 0.0011\n",
            "Epoch 18/50\n",
            "23403/23403 [==============================] - 454s 19ms/step - loss: 0.0063 - accuracy: 0.9968 - val_loss: 0.0040 - val_accuracy: 0.9980 - lr: 9.5000e-04\n",
            "Epoch 19/50\n",
            "23403/23403 [==============================] - 462s 20ms/step - loss: 0.0046 - accuracy: 0.9977 - val_loss: 0.0031 - val_accuracy: 0.9984 - lr: 8.0000e-04\n",
            "Epoch 20/50\n",
            "23403/23403 [==============================] - 465s 20ms/step - loss: 0.0034 - accuracy: 0.9982 - val_loss: 0.0025 - val_accuracy: 0.9987 - lr: 6.5000e-04\n",
            "Epoch 21/50\n",
            "23403/23403 [==============================] - 469s 20ms/step - loss: 0.0024 - accuracy: 0.9988 - val_loss: 0.0016 - val_accuracy: 0.9991 - lr: 5.0000e-04\n",
            "Epoch 22/50\n",
            "23403/23403 [==============================] - 462s 20ms/step - loss: 0.0020 - accuracy: 0.9989 - val_loss: 0.0014 - val_accuracy: 0.9992 - lr: 4.5242e-04\n",
            "Epoch 23/50\n",
            "23403/23403 [==============================] - 454s 19ms/step - loss: 0.0017 - accuracy: 0.9991 - val_loss: 0.0013 - val_accuracy: 0.9993 - lr: 4.0937e-04\n",
            "Epoch 24/50\n",
            "23403/23403 [==============================] - 453s 19ms/step - loss: 0.0014 - accuracy: 0.9992 - val_loss: 9.7432e-04 - val_accuracy: 0.9995 - lr: 3.7041e-04\n",
            "Epoch 25/50\n",
            "23403/23403 [==============================] - 454s 19ms/step - loss: 0.0012 - accuracy: 0.9993 - val_loss: 9.1066e-04 - val_accuracy: 0.9995 - lr: 3.3516e-04\n",
            "Epoch 26/50\n",
            "23403/23403 [==============================] - 454s 19ms/step - loss: 0.0010 - accuracy: 0.9994 - val_loss: 7.4041e-04 - val_accuracy: 0.9996 - lr: 3.0327e-04\n",
            "Epoch 27/50\n",
            "23403/23403 [==============================] - 452s 19ms/step - loss: 9.3018e-04 - accuracy: 0.9995 - val_loss: 6.7922e-04 - val_accuracy: 0.9996 - lr: 2.7441e-04\n",
            "Epoch 28/50\n",
            "23403/23403 [==============================] - 450s 19ms/step - loss: 7.9932e-04 - accuracy: 0.9995 - val_loss: 6.3560e-04 - val_accuracy: 0.9996 - lr: 2.4829e-04\n",
            "Epoch 29/50\n",
            "23403/23403 [==============================] - 450s 19ms/step - loss: 6.9405e-04 - accuracy: 0.9996 - val_loss: 6.0903e-04 - val_accuracy: 0.9996 - lr: 2.2466e-04\n",
            "Epoch 30/50\n",
            "23403/23403 [==============================] - 449s 19ms/step - loss: 6.1458e-04 - accuracy: 0.9996 - val_loss: 5.3764e-04 - val_accuracy: 0.9997 - lr: 2.0328e-04\n",
            "Epoch 31/50\n",
            "23403/23403 [==============================] - 449s 19ms/step - loss: 5.5188e-04 - accuracy: 0.9997 - val_loss: 4.8580e-04 - val_accuracy: 0.9997 - lr: 1.8394e-04\n",
            "Epoch 32/50\n",
            "23403/23403 [==============================] - 449s 19ms/step - loss: 4.8313e-04 - accuracy: 0.9997 - val_loss: 5.0047e-04 - val_accuracy: 0.9997 - lr: 1.6644e-04\n",
            "Epoch 33/50\n",
            "23403/23403 [==============================] - 448s 19ms/step - loss: 4.3431e-04 - accuracy: 0.9997 - val_loss: 4.3972e-04 - val_accuracy: 0.9997 - lr: 1.5060e-04\n",
            "Epoch 34/50\n",
            "23403/23403 [==============================] - 447s 19ms/step - loss: 4.0460e-04 - accuracy: 0.9997 - val_loss: 4.0034e-04 - val_accuracy: 0.9997 - lr: 1.3627e-04\n",
            "Epoch 35/50\n",
            "23403/23403 [==============================] - 447s 19ms/step - loss: 3.6304e-04 - accuracy: 0.9998 - val_loss: 4.0493e-04 - val_accuracy: 0.9997 - lr: 1.2330e-04\n",
            "Epoch 36/50\n",
            "23403/23403 [==============================] - 447s 19ms/step - loss: 3.3220e-04 - accuracy: 0.9998 - val_loss: 3.9232e-04 - val_accuracy: 0.9997 - lr: 1.1157e-04\n",
            "Epoch 37/50\n",
            "23403/23403 [==============================] - 447s 19ms/step - loss: 3.1035e-04 - accuracy: 0.9998 - val_loss: 3.7711e-04 - val_accuracy: 0.9997 - lr: 1.0095e-04\n",
            "Epoch 38/50\n",
            "23403/23403 [==============================] - 448s 19ms/step - loss: 2.8875e-04 - accuracy: 0.9998 - val_loss: 3.5007e-04 - val_accuracy: 0.9998 - lr: 9.1342e-05\n",
            "Epoch 39/50\n",
            "23403/23403 [==============================] - 446s 19ms/step - loss: 2.7303e-04 - accuracy: 0.9998 - val_loss: 3.5346e-04 - val_accuracy: 0.9997 - lr: 8.2649e-05\n",
            "Epoch 40/50\n",
            "23403/23403 [==============================] - 446s 19ms/step - loss: 2.5995e-04 - accuracy: 0.9998 - val_loss: 3.5827e-04 - val_accuracy: 0.9998 - lr: 7.4784e-05\n",
            "Epoch 41/50\n",
            "23403/23403 [==============================] - 447s 19ms/step - loss: 2.4458e-04 - accuracy: 0.9998 - val_loss: 3.6944e-04 - val_accuracy: 0.9998 - lr: 6.7668e-05\n",
            "Epoch 42/50\n",
            "23403/23403 [==============================] - 447s 19ms/step - loss: 2.3217e-04 - accuracy: 0.9998 - val_loss: 3.5540e-04 - val_accuracy: 0.9998 - lr: 6.1228e-05\n",
            "Epoch 43/50\n",
            "23403/23403 [==============================] - 447s 19ms/step - loss: 2.2416e-04 - accuracy: 0.9998 - val_loss: 3.4667e-04 - val_accuracy: 0.9998 - lr: 5.5402e-05\n",
            "Epoch 44/50\n",
            "23403/23403 [==============================] - 447s 19ms/step - loss: 2.1360e-04 - accuracy: 0.9998 - val_loss: 3.5422e-04 - val_accuracy: 0.9998 - lr: 5.0129e-05\n",
            "Epoch 45/50\n",
            "23403/23403 [==============================] - 447s 19ms/step - loss: 2.0756e-04 - accuracy: 0.9998 - val_loss: 3.3646e-04 - val_accuracy: 0.9998 - lr: 4.5359e-05\n",
            "Epoch 46/50\n",
            "23403/23403 [==============================] - 447s 19ms/step - loss: 2.0087e-04 - accuracy: 0.9998 - val_loss: 3.4074e-04 - val_accuracy: 0.9998 - lr: 4.1042e-05\n",
            "Epoch 47/50\n",
            "23403/23403 [==============================] - 447s 19ms/step - loss: 1.9711e-04 - accuracy: 0.9998 - val_loss: 3.4154e-04 - val_accuracy: 0.9998 - lr: 3.7137e-05\n",
            "Epoch 48/50\n",
            "23403/23403 [==============================] - 447s 19ms/step - loss: 1.9241e-04 - accuracy: 0.9998 - val_loss: 3.6180e-04 - val_accuracy: 0.9997 - lr: 3.3603e-05\n",
            "Epoch 49/50\n",
            "23403/23403 [==============================] - 447s 19ms/step - loss: 1.8947e-04 - accuracy: 0.9998 - val_loss: 3.4738e-04 - val_accuracy: 0.9997 - lr: 3.0405e-05\n",
            "Epoch 50/50\n",
            "23403/23403 [==============================] - 446s 19ms/step - loss: 1.8609e-04 - accuracy: 0.9998 - val_loss: 3.4346e-04 - val_accuracy: 0.9997 - lr: 2.7512e-05\n"
          ]
        }
      ],
      "source": [
        "epochs = 50  # This should be at least 30 for convergence\n",
        "lr_schedule = tf.keras.callbacks.LearningRateScheduler(create_lr_func(0.0005, 20, 4.0))\n",
        "checkpoint = keras.callbacks.ModelCheckpoint(\n",
        "    \"models/2022-10-04-Transformer_3to2\", save_best_only=True, monitor=\"val_loss\", save_weights_only=True\n",
        ")\n",
        "\n",
        "callbacks = [lr_schedule, checkpoint]\n",
        "\n",
        "transformer.summary()\n",
        "transformer.compile(\n",
        "    \"adam\", loss=\"sparse_categorical_crossentropy\", metrics=[\"accuracy\"]\n",
        ")\n",
        "history = transformer.fit(train_ds, epochs=epochs, validation_data=val_ds,\n",
        "                          callbacks = callbacks)\n"
      ]
    },
    {
      "cell_type": "code",
      "execution_count": null,
      "metadata": {
        "id": "vOOTEZLvO5rw"
      },
      "outputs": [],
      "source": [
        "transformer.save_weights(\"models/2022-10-04-Transformer_3to2_50epochs\")"
      ]
    },
    {
      "cell_type": "code",
      "execution_count": null,
      "metadata": {
        "colab": {
          "base_uri": "https://localhost:8080/",
          "height": 265
        },
        "id": "cSZ7Y7kuO5rw",
        "outputId": "764a420c-4b55-42c2-f73d-2717abf388cd"
      },
      "outputs": [
        {
          "output_type": "display_data",
          "data": {
            "text/plain": [
              "<Figure size 432x288 with 1 Axes>"
            ],
            "image/png": "[encoded data removed]"
          },
          "metadata": {
            "needs_background": "light"
          }
        }
      ],
      "source": [
        "plt.plot(history.history['loss'], c=\"r\", label=\"loss\")\n",
        "plt.plot(history.history['accuracy'], c='b', label=\"accuracy\")\n",
        "plt.legend()\n",
        "plt.show()"
      ]
    },
    {
      "cell_type": "code",
      "source": [
        "transformer.load_weights(\"models/2022-10-04-Transformer_3to2_50epochs\")"
      ],
      "metadata": {
        "colab": {
          "base_uri": "https://localhost:8080/"
        },
        "id": "kGOjJzjh9mCv",
        "outputId": "b7c3477a-f94e-49d1-a46c-42be8b762c58"
      },
      "execution_count": 22,
      "outputs": [
        {
          "output_type": "execute_result",
          "data": {
            "text/plain": [
              "<tensorflow.python.training.tracking.util.CheckpointLoadStatus at 0x7fd5ff73b1d0>"
            ]
          },
          "metadata": {},
          "execution_count": 22
        }
      ]
    },
    {
      "cell_type": "code",
      "source": [
        "y_vocab = y_vectorization.get_vocabulary()\n",
        "y_index_lookup = dict(zip(range(len(y_vocab)), y_vocab))\n",
        "max_decoded_sentence_length = 350\n",
        "\n",
        "\n",
        "def decode_sequence(input_sentence):\n",
        "    tokenized_input_sentence = X_vectorization([input_sentence])\n",
        "    decoded_sentence = \"[start]\"\n",
        "    probas = []\n",
        "    for i in range(max_decoded_sentence_length):\n",
        "        tokenized_target_sentence = y_vectorization([decoded_sentence])[:, :-1]\n",
        "        predictions = transformer([tokenized_input_sentence, tokenized_target_sentence])\n",
        "\n",
        "        sampled_token_index = np.argmax(predictions[0, i, :])\n",
        "        # proba = proba*predictions[0,i,sampled_token_index]\n",
        "        probas = probas + predictions[0,i,sampled_token_index]\n",
        "        sampled_token = y_index_lookup[sampled_token_index]\n",
        "        decoded_sentence += \" \" + sampled_token\n",
        "\n",
        "        if sampled_token == \"[END]\":\n",
        "            break\n",
        "    return decoded_sentence, probas.numpy()"
      ],
      "metadata": {
        "id": "sF91ZSzaoIwe"
      },
      "execution_count": 28,
      "outputs": []
    },
    {
      "cell_type": "code",
      "source": [
        "decode_sequence(X_val_text[0])"
      ],
      "metadata": {
        "colab": {
          "base_uri": "https://localhost:8080/"
        },
        "id": "ySfCsBaD-HsU",
        "outputId": "2c060686-997c-4c21-882f-2c7a5c900c50"
      },
      "execution_count": 29,
      "outputs": [
        {
          "output_type": "execute_result",
          "data": {
            "text/plain": [
              "('[start] mul( mul s- 16 pow 81 s- 1 pow e 6 pow add( reg_prop s_33 mul 2 s_23 ) s- 2 pow add( m2mu reg_prop s_11 mul s- 2 s_14 ) s- 2 add( mul m2d add( mul s- 2 m2muxs_25 mul s- 2 m2muxs_35 mul 4 m2muxs_23 mul 4 m2muxs_33 mul( s- 2 s_14 s_23 ) mul( s- 2 s_14 s_33 ) mul( 2 s_12 s_45 ) mul( 2 s_13 s_45 ) mul( 2 s_15 s_24 ) mul( 2 s_15 s_34 ) ) mul m4d add mul s- 2 s_14 mul 4 m2mu mul( s- 1 m2muxs_25 s_33 ) mul( 2 m2muxs_23 s_35 ) mul( s_12 s_33 s_45 ) mul( s_15 s_24 s_33 ) mul( s- 2 s_13 s_23 s_45 ) mul( s- 2 s_15 s_23 s_34 ) ) ) [END]',\n",
              " array([], dtype=float32))"
            ]
          },
          "metadata": {},
          "execution_count": 29
        }
      ]
    },
    {
      "cell_type": "code",
      "source": [
        "train_true_file = \"./predictions/2022-10-07-train_true.txt\"\n",
        "train_pred_file = \"./predictions/2022-10-07-train_pred.txt\"\n",
        "train_pred_probas_file =  \"./predictions/2022-10-07-train_pred_probas.txt\"\n",
        "val_true_file = \"./predictions/2022-10-07-val_true.txt\"\n",
        "val_pred_file = \"./predictions/2022-10-07-val_pred.txt\"\n",
        "val_pred_probas_file =  \"./predictions/2022-10-07-val_pred_probas.txt\""
      ],
      "metadata": {
        "id": "J7vEfzhc-MvG"
      },
      "execution_count": 39,
      "outputs": []
    },
    {
      "cell_type": "code",
      "source": [
        "os.listdir()"
      ],
      "metadata": {
        "colab": {
          "base_uri": "https://localhost:8080/"
        },
        "id": "qAJHs9ZuRNnf",
        "outputId": "fc432ce3-afe0-4a01-e199-1904198e6861"
      },
      "execution_count": 40,
      "outputs": [
        {
          "output_type": "execute_result",
          "data": {
            "text/plain": [
              "['2022-07-20-RNNAttention',\n",
              " '2022-07-20-FirstTransformer',\n",
              " 'data.nosync_old',\n",
              " 'data.nosync',\n",
              " '2022-08-22-Transformer',\n",
              " 'models',\n",
              " '2022-08-24-Transformer-NewData',\n",
              " 'QED',\n",
              " 'predictions']"
            ]
          },
          "metadata": {},
          "execution_count": 40
        }
      ]
    },
    {
      "cell_type": "code",
      "source": [
        "y_val_pred = [decode_sequence(x) for x in tqdm(X_val_text[0:500])]\n",
        "y_val_probas = [y[1] for y in y_val_pred]\n",
        "y_val_pred = [y[0] for y in y_val_pred]\n",
        "\n",
        "with open(val_pred_file, \"w\") as f:\n",
        "    for line in y_val_pred:\n",
        "        f.write(line)\n",
        "        f.write(\"\\n\")\n",
        "\n",
        "with open(val_true_file, \"w\") as f:\n",
        "    for line in y_val_text:\n",
        "        f.write(line)\n",
        "        f.write(\"\\n\")\n",
        "\n",
        "with open(val_pred_probas_file, \"w\") as f:\n",
        "    for line in y_val_probas:\n",
        "        f.write(str(line))\n",
        "        f.write(\"\\n\")"
      ],
      "metadata": {
        "id": "WflbdJbu-25f"
      },
      "execution_count": 41,
      "outputs": []
    },
    {
      "cell_type": "code",
      "source": [
        "def token_accuracy(y_true, y_pred, verbose=0, pred_has_start_end_tokens=True):\n",
        "    \"\"\"\n",
        "    compare two arrays and check how many entries are the same at the same position\n",
        "    \"\"\"\n",
        "    true = y_true.split(\" \")\n",
        "    pred = y_pred.split(\" \")\n",
        "    if pred_has_start_end_tokens:\n",
        "        pred = pred[1:-1]\n",
        "    max_ind = np.min([len(true), len(pred)])\n",
        "    correct_ctr = 0\n",
        "    # ignore [start] and [end]\n",
        "    max_correct = len(pred)\n",
        "    for i in range(max_ind):\n",
        "        if verbose: ic([true[i], pred[i]])\n",
        "        if true[i] == pred[i]:\n",
        "            correct_ctr += 1\n",
        "    return correct_ctr / max_correct"
      ],
      "metadata": {
        "id": "W_OeJ6UDSUEd"
      },
      "execution_count": 43,
      "outputs": []
    },
    {
      "cell_type": "code",
      "source": [
        "val_accs = [token_accuracy(y_val_text[i], y_val_pred[i], pred_has_start_end_tokens=False) for i in range(len(y_val_pred))]\n",
        "print(\"val:\", np.mean(val_accs)) "
      ],
      "metadata": {
        "colab": {
          "base_uri": "https://localhost:8080/"
        },
        "id": "MsNwC6ku_REv",
        "outputId": "ef687941-b971-4bfe-bdeb-5bb5dd580805"
      },
      "execution_count": 45,
      "outputs": [
        {
          "output_type": "stream",
          "name": "stdout",
          "text": [
            "val: 0.4816969419028278\n"
          ]
        }
      ]
    },
    {
      "cell_type": "code",
      "source": [
        "y_train_pred = [decode_sequence(x) for x in tqdm(X_train_text[0:100])]\n",
        "y_train_probas = [y[1] for y in y_train_pred]\n",
        "y_train_pred = [y[0] for y in y_train_pred]\n",
        "\n",
        "with open(train_true_file, \"w\") as f:\n",
        "    for line in y_train_text:\n",
        "        f.write(line)\n",
        "        f.write(\"\\n\")\n",
        "\n",
        "with open(train_pred_file, \"w\") as f:\n",
        "    for line in y_train_pred:\n",
        "        f.write(line)\n",
        "        f.write(\"\\n\")\n",
        "\n",
        "with open(train_pred_probas_file, \"w\") as f:\n",
        "    for line in y_train_probas:\n",
        "        f.write(str(line))\n",
        "        f.write(\"\\n\")"
      ],
      "metadata": {
        "id": "b9oaUUAg-T6K"
      },
      "execution_count": null,
      "outputs": []
    }
  ],
  "metadata": {
    "kernelspec": {
      "display_name": "symba",
      "language": "python",
      "name": "symba"
    },
    "language_info": {
      "codemirror_mode": {
        "name": "ipython",
        "version": 3
      },
      "file_extension": ".py",
      "mimetype": "text/x-python",
      "name": "python",
      "nbconvert_exporter": "python",
      "pygments_lexer": "ipython3",
      "version": "3.10.7"
    },
    "orig_nbformat": 4,
    "vscode": {
      "interpreter": {
        "hash": "c4adc2ea131058d4ca334736eaf83f8a99f586a60b7e02773f5921bb39d3dbeb"
      }
    },
    "colab": {
      "provenance": [],
      "collapsed_sections": []
    },
    "accelerator": "GPU",
    "gpuClass": "standard"
  },
  "nbformat": 4,
  "nbformat_minor": 0
}